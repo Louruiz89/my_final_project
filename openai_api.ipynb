{
 "cells": [
  {
   "cell_type": "code",
   "execution_count": 12,
   "id": "39c0b395",
   "metadata": {},
   "outputs": [],
   "source": [
    "from dotenv import load_dotenv\n",
    "import os #provides ways to access the Operating System and allows us to read the environment variables\n",
    "import openai"
   ]
  },
  {
   "cell_type": "code",
   "execution_count": 13,
   "id": "f61bfe81",
   "metadata": {},
   "outputs": [],
   "source": [
    "load_dotenv()\n",
    "my_secret_key = os.getenv(\"my_openai_key\")"
   ]
  },
  {
   "cell_type": "code",
   "execution_count": 14,
   "id": "548561c4",
   "metadata": {},
   "outputs": [],
   "source": [
    "openai.api_key = my_secret_key"
   ]
  },
  {
   "cell_type": "code",
   "execution_count": 16,
   "id": "5d1fc90f",
   "metadata": {},
   "outputs": [
    {
     "name": "stdout",
     "output_type": "stream",
     "text": [
      "Enter the number of kilometers: 300\n"
     ]
    }
   ],
   "source": [
    "kilometers = float(input(\"Enter the number of kilometers: \"))"
   ]
  },
  {
   "cell_type": "code",
   "execution_count": 17,
   "id": "0941294d",
   "metadata": {},
   "outputs": [],
   "source": [
    "prompt = f\"From Madrid, recommend the top 3 places to visit within {kilometers} kilometers based on popular opinions.\""
   ]
  },
  {
   "cell_type": "code",
   "execution_count": 18,
   "id": "8f0bceb0",
   "metadata": {},
   "outputs": [],
   "source": [
    "response = openai.Completion.create(\n",
    "  engine=\"text-davinci-003\",\n",
    "  prompt=prompt,\n",
    "  max_tokens=50,\n",
    "  n=3,\n",
    "  stop=None,\n",
    "  temperature=0.5,\n",
    "  top_p=1.0\n",
    ")\n"
   ]
  },
  {
   "cell_type": "code",
   "execution_count": 19,
   "id": "ffe8cf6d",
   "metadata": {},
   "outputs": [],
   "source": [
    "recommended_places = [choice['text'].strip() for choice in response['choices']]"
   ]
  },
  {
   "cell_type": "code",
   "execution_count": 20,
   "id": "636746a0",
   "metadata": {},
   "outputs": [
    {
     "name": "stdout",
     "output_type": "stream",
     "text": [
      "\n",
      "Top 3 places to visit from Madrid within 300.0 kilometers:\n"
     ]
    }
   ],
   "source": [
    "print(f\"\\nTop 3 places to visit from Madrid within {kilometers} kilometers:\")"
   ]
  },
  {
   "cell_type": "code",
   "execution_count": 21,
   "id": "2ccb52cd",
   "metadata": {},
   "outputs": [
    {
     "name": "stdout",
     "output_type": "stream",
     "text": [
      "1. 1. Segovia, Spain - Segovia is a city in the autonomous region of Castile and Leon, located about 90 km (56 miles) northwest of Madrid. It is renowned for its well-preserved Roman aqued\n",
      "2. 1. Toledo, Spain - Located approximately 70 km from Madrid, Toledo is a beautiful, historical city and a must-see for anyone visiting Madrid. It is renowned for its architecture, monuments, and cultural heritage and is home to the El\n",
      "3. 1. Toledo, Spain - Located just 70 kilometers from Madrid, Toledo is a beautiful medieval city known for its well-preserved architecture, including the Alcázar fortress, the Cathedral of Toledo, and the El Greco Museum.\n"
     ]
    }
   ],
   "source": [
    "for i, place in enumerate(recommended_places, start=1):\n",
    "    print(f\"{i}. {place}\")"
   ]
  },
  {
   "cell_type": "code",
   "execution_count": null,
   "id": "f8882281",
   "metadata": {},
   "outputs": [],
   "source": []
  }
 ],
 "metadata": {
  "kernelspec": {
   "display_name": "project_new_env",
   "language": "python",
   "name": "project_new_env"
  },
  "language_info": {
   "codemirror_mode": {
    "name": "ipython",
    "version": 3
   },
   "file_extension": ".py",
   "mimetype": "text/x-python",
   "name": "python",
   "nbconvert_exporter": "python",
   "pygments_lexer": "ipython3",
   "version": "3.11.3"
  }
 },
 "nbformat": 4,
 "nbformat_minor": 5
}
