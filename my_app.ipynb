{
 "cells": [
  {
   "cell_type": "code",
   "execution_count": 23,
   "id": "39c0b395",
   "metadata": {},
   "outputs": [],
   "source": [
    "#Los 3 primeros imports son para llamar a la API de ChatGPT\n",
    "from dotenv import load_dotenv\n",
    "import os #provides ways to access the Operating System and allows us to read the environment variables\n",
    "import openai\n",
    "\n",
    "import requests #Este import es para llamar a la API del tiempo\n",
    "\n",
    "import pandas as pd #Este import es para cargar el CSV de latitud y longitud de todos los pueblos de españa\n",
    "\n",
    "from haversine import haversine, Unit #Estos import son para calcular las distancias de lat y long\n",
    "from math import radians, sin, cos, sqrt, atan2"
   ]
  },
  {
   "cell_type": "code",
   "execution_count": 24,
   "id": "f61bfe81",
   "metadata": {},
   "outputs": [],
   "source": [
    "#Llamo a la API de chatGPT aunque ahora he decidido no empezar usandola\n",
    "\n",
    "load_dotenv()\n",
    "my_secret_key = os.getenv(\"my_openai_key\")"
   ]
  },
  {
   "cell_type": "code",
   "execution_count": 25,
   "id": "548561c4",
   "metadata": {},
   "outputs": [],
   "source": [
    "#Llamo a la contraseña que tengo guardada en .env\n",
    "\n",
    "openai.api_key = my_secret_key"
   ]
  },
  {
   "cell_type": "code",
   "execution_count": 26,
   "id": "a915c5df",
   "metadata": {},
   "outputs": [
    {
     "name": "stdout",
     "output_type": "stream",
     "text": [
      "Welcome to the APP that helps you to plan your road trip in Campervan starting from Madrid\n"
     ]
    }
   ],
   "source": [
    "#Le doy la bienvenida al usuario\n",
    "\n",
    "print(\"Welcome to the APP that helps you to plan your road trip in Campervan starting from Madrid\")"
   ]
  },
  {
   "cell_type": "code",
   "execution_count": 27,
   "id": "7da57c18",
   "metadata": {},
   "outputs": [
    {
     "name": "stdout",
     "output_type": "stream",
     "text": [
      "Please enter how many days are you going to travel: 7\n"
     ]
    }
   ],
   "source": [
    "#Le pregunto al usuario cuantos días va a viajar ya que es la base de mi elección de itinerario\n",
    "\n",
    "days = int(input(\"Please enter how many days are you going to travel: \"))"
   ]
  },
  {
   "cell_type": "code",
   "execution_count": 28,
   "id": "b95ca06d",
   "metadata": {},
   "outputs": [
    {
     "data": {
      "text/plain": [
       "600"
      ]
     },
     "execution_count": 28,
     "metadata": {},
     "output_type": "execute_result"
    }
   ],
   "source": [
    "#Calculo cuantos KM va a viajar en base a los días (resto 1 porque el último día no lo tengo en cuenta)\n",
    "\n",
    "number = (days - 1)*100\n",
    "number"
   ]
  },
  {
   "cell_type": "code",
   "execution_count": 29,
   "id": "0d79717b",
   "metadata": {},
   "outputs": [],
   "source": [
    "#Creo un diccionario en base al radio de KM para usarlo como referencia para saber el tiempo\n",
    "\n",
    "dictionary = {\n",
    "    'N': ['Riaza', 'Aranda de Duero', 'Burgos', 'Santander', 'Santander'],\n",
    "    'NO': ['Segovia', 'Zamora', 'Ponferrada', 'Lugo', 'A Coruña'],\n",
    "    'O': ['Ávila', 'Salamanca', 'Ciudad Rodrigo', 'Ciudad Rodrigo', 'Ciudad Rodrigo'],\n",
    "    'SO': ['Talavera de la Reina', 'Plasencia', 'Mérida', 'Sevilla', 'Huelva'],\n",
    "    'S': ['Toledo', 'Ciudad Real', 'Jaén', 'Granada', 'Málaga'],\n",
    "    'SE': ['Saelices', 'Albacete', 'Almansa', 'Murcia', 'Almería'],\n",
    "    'E': ['Sacedón', 'Cuenca', 'Valencia', 'Jávea', 'Alicante'],\n",
    "    'NE': ['Sigüenza', 'Calatayud', 'Zaragoza', 'Huesca', 'Andorra']}"
   ]
  },
  {
   "cell_type": "code",
   "execution_count": 30,
   "id": "52f5ecce",
   "metadata": {},
   "outputs": [
    {
     "data": {
      "text/plain": [
       "7"
      ]
     },
     "execution_count": 30,
     "metadata": {},
     "output_type": "execute_result"
    }
   ],
   "source": [
    "days"
   ]
  },
  {
   "cell_type": "code",
   "execution_count": 31,
   "id": "9c8cca6c",
   "metadata": {},
   "outputs": [
    {
     "data": {
      "text/plain": [
       "5"
      ]
     },
     "execution_count": 31,
     "metadata": {},
     "output_type": "execute_result"
    }
   ],
   "source": [
    "#Necesito restar los días -2 para que me de la posición correcta del diccionario ya que por ejemplo \n",
    "# en 3 días de viaje quiero hacer como máximo 200 kms, es decir la 2 posición que en python es 1\n",
    "''''''\n",
    "if days >=8:\n",
    "    d = 5\n",
    "elif days == 7 or days >= 2: \n",
    "    d = int(days - 2)\n",
    "else:\n",
    "    d = 0\n",
    "    \n",
    "d"
   ]
  },
  {
   "cell_type": "code",
   "execution_count": 10,
   "id": "be55de06",
   "metadata": {},
   "outputs": [],
   "source": [
    "#Creo una función para que me genere automaticamente las ubicaciones en base a los días de viaje\n",
    "\n",
    "def get_places(dictionary, d):\n",
    "    values = {}\n",
    "    for key, value_list in dictionary.items():\n",
    "        if d < len(value_list):\n",
    "            values[key] = value_list[d]\n",
    "    return values"
   ]
  },
  {
   "cell_type": "code",
   "execution_count": 11,
   "id": "b735bbb9",
   "metadata": {},
   "outputs": [
    {
     "data": {
      "text/plain": [
       "{'N': 'Santander',\n",
       " 'NO': 'Lugo',\n",
       " 'O': 'Ciudad Rodrigo',\n",
       " 'SO': 'Sevilla',\n",
       " 'S': 'Granada',\n",
       " 'SE': 'Murcia',\n",
       " 'E': 'Jávea',\n",
       " 'NE': 'Huesca'}"
      ]
     },
     "execution_count": 11,
     "metadata": {},
     "output_type": "execute_result"
    }
   ],
   "source": [
    "#Reviso que me devuelva el resultado correcto https://www.weatherapi.com/docs/\n",
    "\n",
    "result = get_places(dictionary, d)\n",
    "result"
   ]
  },
  {
   "cell_type": "code",
   "execution_count": 12,
   "id": "7d859ce8",
   "metadata": {},
   "outputs": [],
   "source": [
    "#Creo todas las variables para llamar a la API del tiempo menos \"q\" que representa el lugar \n",
    "#de dónde quiero ver la previsión del tiempo\n",
    "load_dotenv()\n",
    "url = 'http://api.weatherapi.com/v1'\n",
    "forecast = '/forecast.json?'\n",
    "pre = 'key='\n",
    "key =os.getenv(\"my_weather_token\")\n",
    "wdays = '&days=1'\n",
    "final = '&aqi=no&alerts=no'\n",
    "\n",
    "#print(url + forecast + pre + key + wdays + final)"
   ]
  },
  {
   "cell_type": "code",
   "execution_count": 13,
   "id": "9269eee0",
   "metadata": {},
   "outputs": [],
   "source": [
    "#Ahora creo una variable \"q\" para cada punto cardinal\n",
    "\n",
    "q_var = '&q='\n",
    "norte = q_var + result['N']\n",
    "noroeste = q_var + result['NO']\n",
    "oeste = q_var + result['O']\n",
    "suroeste = q_var + result['SO']\n",
    "sur = q_var + result['S']\n",
    "sureste = q_var + result['SE']\n",
    "este = q_var + result['E']\n",
    "noreste = q_var + result['NE']"
   ]
  },
  {
   "cell_type": "code",
   "execution_count": 14,
   "id": "8d35fc91",
   "metadata": {},
   "outputs": [],
   "source": [
    "#Creo una llamada a la API para cada lugar\n",
    "\n",
    "check_rain_north = requests.get(url + forecast + pre + key + norte + wdays + final)\n",
    "check_rain_nortwest = requests.get(url + forecast + pre + key + noroeste + wdays + final)\n",
    "check_rain_west = requests.get(url + forecast + pre + key + oeste + wdays + final)\n",
    "check_rain_southwest = requests.get(url + forecast + pre + key + suroeste + wdays + final)\n",
    "check_rain_south = requests.get(url + forecast + pre + key + sur + wdays + final)\n",
    "check_rain_southeast = requests.get(url + forecast + pre + key + sureste + wdays + final)\n",
    "check_rain_east = requests.get(url + forecast + pre + key + este + wdays + final)\n",
    "check_rain_northeast = requests.get(url + forecast + pre + key + noreste + wdays + final)\n",
    "\n",
    "#check_rain_southeast.status_code"
   ]
  },
  {
   "cell_type": "code",
   "execution_count": 15,
   "id": "d1a9b2ea",
   "metadata": {},
   "outputs": [],
   "source": [
    "check_rain_north_result = check_rain_north.json()\n",
    "check_rain_nortwest_result = check_rain_nortwest.json()\n",
    "check_rain_west_result = check_rain_west.json()\n",
    "check_rain_southwest_result = check_rain_southwest.json() \n",
    "check_rain_south_result = check_rain_south.json() \n",
    "check_rain_southeast_result = check_rain_southeast.json()\n",
    "check_rain_east_result = check_rain_east.json()\n",
    "check_rain_northeast_result = check_rain_northeast.json()"
   ]
  },
  {
   "cell_type": "code",
   "execution_count": 16,
   "id": "0fc18d99",
   "metadata": {
    "scrolled": true
   },
   "outputs": [
    {
     "name": "stdout",
     "output_type": "stream",
     "text": [
      "Awesome! I suggest to travel to the following directions as the others could rain tomorrow\n",
      "West\n",
      "Southwest\n",
      "South\n",
      "Southeast\n",
      "East\n",
      "Northeast\n"
     ]
    }
   ],
   "source": [
    "print(\"Awesome! I suggest to travel to the following directions as the others could rain tomorrow\")\n",
    "\n",
    "#North\n",
    "if check_rain_north_result['forecast'][\"forecastday\"][0]['day']['daily_chance_of_rain'] == 0:\n",
    "    print('North')\n",
    "    \n",
    "#Northwest\n",
    "if check_rain_nortwest_result['forecast'][\"forecastday\"][0]['day']['daily_chance_of_rain'] == 0:\n",
    "    print('Northwest')\n",
    "\n",
    "#West\n",
    "if check_rain_west_result['forecast'][\"forecastday\"][0]['day']['daily_chance_of_rain'] == 0:\n",
    "    print('West')\n",
    "    \n",
    "#Southwest\n",
    "if check_rain_southwest_result['forecast'][\"forecastday\"][0]['day']['daily_chance_of_rain'] == 0:\n",
    "    print('Southwest')\n",
    "    \n",
    "#South\n",
    "if check_rain_south_result['forecast'][\"forecastday\"][0]['day']['daily_chance_of_rain'] == 0:\n",
    "    print('South')\n",
    "\n",
    "#Southeast\n",
    "if check_rain_southeast_result['forecast'][\"forecastday\"][0]['day']['daily_chance_of_rain'] == 0:\n",
    "    print('Southeast')\n",
    "\n",
    "#East\n",
    "if check_rain_east_result['forecast'][\"forecastday\"][0]['day']['daily_chance_of_rain'] == 0:\n",
    "    print('East')\n",
    "    \n",
    "#Northeast\n",
    "if check_rain_northeast_result['forecast'][\"forecastday\"][0]['day']['daily_chance_of_rain'] == 0:\n",
    "    print('Northeast')"
   ]
  },
  {
   "cell_type": "code",
   "execution_count": 17,
   "id": "95c99993",
   "metadata": {},
   "outputs": [
    {
     "name": "stdout",
     "output_type": "stream",
     "text": [
      "Choose one: south\n"
     ]
    }
   ],
   "source": [
    "#Ahora le pido al usuario que elija el punto cardinal\n",
    "\n",
    "direction = input('Choose one: ')"
   ]
  },
  {
   "cell_type": "code",
   "execution_count": 18,
   "id": "5ad9dbad",
   "metadata": {},
   "outputs": [
    {
     "data": {
      "text/html": [
       "<div>\n",
       "<style scoped>\n",
       "    .dataframe tbody tr th:only-of-type {\n",
       "        vertical-align: middle;\n",
       "    }\n",
       "\n",
       "    .dataframe tbody tr th {\n",
       "        vertical-align: top;\n",
       "    }\n",
       "\n",
       "    .dataframe thead th {\n",
       "        text-align: right;\n",
       "    }\n",
       "</style>\n",
       "<table border=\"1\" class=\"dataframe\">\n",
       "  <thead>\n",
       "    <tr style=\"text-align: right;\">\n",
       "      <th></th>\n",
       "      <th>Pueblo</th>\n",
       "      <th>Provincia</th>\n",
       "      <th>Longitud</th>\n",
       "      <th>Latitud</th>\n",
       "      <th>Datos de Interés</th>\n",
       "    </tr>\n",
       "  </thead>\n",
       "  <tbody>\n",
       "    <tr>\n",
       "      <th>0</th>\n",
       "      <td>Alcalá del Júcar</td>\n",
       "      <td>Albacete</td>\n",
       "      <td>-1.429327</td>\n",
       "      <td>39.193202</td>\n",
       "      <td>D.O. Pueblo Bonito</td>\n",
       "    </tr>\n",
       "    <tr>\n",
       "      <th>1</th>\n",
       "      <td>Almagro</td>\n",
       "      <td>Ciudad Real</td>\n",
       "      <td>-3.711559</td>\n",
       "      <td>38.889841</td>\n",
       "      <td>D.O. Pueblo Bonito</td>\n",
       "    </tr>\n",
       "    <tr>\n",
       "      <th>2</th>\n",
       "      <td>Almonaster la Real</td>\n",
       "      <td>Huelva</td>\n",
       "      <td>-6.787200</td>\n",
       "      <td>37.872631</td>\n",
       "      <td>D.O. Pueblo Bonito</td>\n",
       "    </tr>\n",
       "    <tr>\n",
       "      <th>3</th>\n",
       "      <td>Anento</td>\n",
       "      <td>Zaragoza</td>\n",
       "      <td>-1.333285</td>\n",
       "      <td>41.069730</td>\n",
       "      <td>D.O. Pueblo Bonito</td>\n",
       "    </tr>\n",
       "    <tr>\n",
       "      <th>4</th>\n",
       "      <td>Ansó</td>\n",
       "      <td>Huesca</td>\n",
       "      <td>-0.828883</td>\n",
       "      <td>42.754663</td>\n",
       "      <td>D.O. Pueblo Bonito</td>\n",
       "    </tr>\n",
       "    <tr>\n",
       "      <th>5</th>\n",
       "      <td>Atienza</td>\n",
       "      <td>Guadalajara</td>\n",
       "      <td>-2.871087</td>\n",
       "      <td>41.200040</td>\n",
       "      <td>D.O. Pueblo Bonito</td>\n",
       "    </tr>\n",
       "    <tr>\n",
       "      <th>6</th>\n",
       "      <td>Ayllón</td>\n",
       "      <td>Segovia</td>\n",
       "      <td>-3.376887</td>\n",
       "      <td>41.420808</td>\n",
       "      <td>D.O. Pueblo Bonito</td>\n",
       "    </tr>\n",
       "    <tr>\n",
       "      <th>7</th>\n",
       "      <td>Baños de la Encina</td>\n",
       "      <td>Jaén</td>\n",
       "      <td>-3.774262</td>\n",
       "      <td>38.171199</td>\n",
       "      <td>D.O. Pueblo Bonito</td>\n",
       "    </tr>\n",
       "  </tbody>\n",
       "</table>\n",
       "</div>"
      ],
      "text/plain": [
       "               Pueblo    Provincia  Longitud    Latitud    Datos de Interés\n",
       "0    Alcalá del Júcar     Albacete -1.429327  39.193202  D.O. Pueblo Bonito\n",
       "1             Almagro  Ciudad Real -3.711559  38.889841  D.O. Pueblo Bonito\n",
       "2  Almonaster la Real       Huelva -6.787200  37.872631  D.O. Pueblo Bonito\n",
       "3              Anento     Zaragoza -1.333285  41.069730  D.O. Pueblo Bonito\n",
       "4                Ansó       Huesca -0.828883  42.754663  D.O. Pueblo Bonito\n",
       "5             Atienza  Guadalajara -2.871087  41.200040  D.O. Pueblo Bonito\n",
       "6              Ayllón      Segovia -3.376887  41.420808  D.O. Pueblo Bonito\n",
       "7  Baños de la Encina         Jaén -3.774262  38.171199  D.O. Pueblo Bonito"
      ]
     },
     "execution_count": 18,
     "metadata": {},
     "output_type": "execute_result"
    }
   ],
   "source": [
    "#Cargo el dataset de municipios para tener las coordenadas\n",
    "\n",
    "municipios = pd.read_csv('./data/pueblos_bonitos_punto.csv')\n",
    "municipios[:8]"
   ]
  },
  {
   "cell_type": "code",
   "execution_count": 19,
   "id": "af230abe",
   "metadata": {},
   "outputs": [
    {
     "data": {
      "text/html": [
       "<div>\n",
       "<style scoped>\n",
       "    .dataframe tbody tr th:only-of-type {\n",
       "        vertical-align: middle;\n",
       "    }\n",
       "\n",
       "    .dataframe tbody tr th {\n",
       "        vertical-align: top;\n",
       "    }\n",
       "\n",
       "    .dataframe thead th {\n",
       "        text-align: right;\n",
       "    }\n",
       "</style>\n",
       "<table border=\"1\" class=\"dataframe\">\n",
       "  <thead>\n",
       "    <tr style=\"text-align: right;\">\n",
       "      <th></th>\n",
       "      <th>Pueblo</th>\n",
       "      <th>Provincia</th>\n",
       "      <th>Longitud</th>\n",
       "      <th>Latitud</th>\n",
       "    </tr>\n",
       "  </thead>\n",
       "  <tbody>\n",
       "    <tr>\n",
       "      <th>0</th>\n",
       "      <td>Albacete</td>\n",
       "      <td>Albacete</td>\n",
       "      <td>-1.855747</td>\n",
       "      <td>38.995881</td>\n",
       "    </tr>\n",
       "    <tr>\n",
       "      <th>1</th>\n",
       "      <td>Almansa</td>\n",
       "      <td>Albacete</td>\n",
       "      <td>-1.094147</td>\n",
       "      <td>38.869688</td>\n",
       "    </tr>\n",
       "    <tr>\n",
       "      <th>2</th>\n",
       "      <td>Andorra</td>\n",
       "      <td>Teruel</td>\n",
       "      <td>-0.443719</td>\n",
       "      <td>40.975094</td>\n",
       "    </tr>\n",
       "    <tr>\n",
       "      <th>3</th>\n",
       "      <td>Aranda de Duero</td>\n",
       "      <td>Burgos</td>\n",
       "      <td>-3.689243</td>\n",
       "      <td>41.671551</td>\n",
       "    </tr>\n",
       "    <tr>\n",
       "      <th>4</th>\n",
       "      <td>Burgos</td>\n",
       "      <td>Burgos</td>\n",
       "      <td>-3.704198</td>\n",
       "      <td>42.341130</td>\n",
       "    </tr>\n",
       "    <tr>\n",
       "      <th>5</th>\n",
       "      <td>Calatayud</td>\n",
       "      <td>Zaragoza</td>\n",
       "      <td>-1.644726</td>\n",
       "      <td>41.354319</td>\n",
       "    </tr>\n",
       "    <tr>\n",
       "      <th>6</th>\n",
       "      <td>Ciudad Real</td>\n",
       "      <td>Ciudad Real</td>\n",
       "      <td>-3.931320</td>\n",
       "      <td>38.986518</td>\n",
       "    </tr>\n",
       "    <tr>\n",
       "      <th>7</th>\n",
       "      <td>Ciudad Rodrigo</td>\n",
       "      <td>Salamanca</td>\n",
       "      <td>-6.534158</td>\n",
       "      <td>40.597309</td>\n",
       "    </tr>\n",
       "    <tr>\n",
       "      <th>8</th>\n",
       "      <td>Cuenca</td>\n",
       "      <td>Cuenca</td>\n",
       "      <td>-2.131523</td>\n",
       "      <td>40.076538</td>\n",
       "    </tr>\n",
       "    <tr>\n",
       "      <th>9</th>\n",
       "      <td>Granada</td>\n",
       "      <td>Granada</td>\n",
       "      <td>-3.600019</td>\n",
       "      <td>37.176419</td>\n",
       "    </tr>\n",
       "    <tr>\n",
       "      <th>10</th>\n",
       "      <td>Huelva</td>\n",
       "      <td>Huelva</td>\n",
       "      <td>-6.950406</td>\n",
       "      <td>37.260041</td>\n",
       "    </tr>\n",
       "    <tr>\n",
       "      <th>11</th>\n",
       "      <td>Huesca</td>\n",
       "      <td>Huesca</td>\n",
       "      <td>-0.408423</td>\n",
       "      <td>42.140627</td>\n",
       "    </tr>\n",
       "    <tr>\n",
       "      <th>12</th>\n",
       "      <td>Lugo</td>\n",
       "      <td>Lugo</td>\n",
       "      <td>-7.555755</td>\n",
       "      <td>43.009890</td>\n",
       "    </tr>\n",
       "    <tr>\n",
       "      <th>13</th>\n",
       "      <td>Murcia</td>\n",
       "      <td>Murcia</td>\n",
       "      <td>-1.128541</td>\n",
       "      <td>37.984364</td>\n",
       "    </tr>\n",
       "    <tr>\n",
       "      <th>14</th>\n",
       "      <td>Plasencia</td>\n",
       "      <td>Cáceres</td>\n",
       "      <td>-6.092682</td>\n",
       "      <td>40.029405</td>\n",
       "    </tr>\n",
       "    <tr>\n",
       "      <th>15</th>\n",
       "      <td>Ponferrada</td>\n",
       "      <td>León</td>\n",
       "      <td>-6.597295</td>\n",
       "      <td>42.547683</td>\n",
       "    </tr>\n",
       "    <tr>\n",
       "      <th>16</th>\n",
       "      <td>Riaza</td>\n",
       "      <td>Segovia</td>\n",
       "      <td>-3.477252</td>\n",
       "      <td>41.279740</td>\n",
       "    </tr>\n",
       "    <tr>\n",
       "      <th>17</th>\n",
       "      <td>Salamanca</td>\n",
       "      <td>Salamanca</td>\n",
       "      <td>-5.665381</td>\n",
       "      <td>40.967368</td>\n",
       "    </tr>\n",
       "    <tr>\n",
       "      <th>18</th>\n",
       "      <td>Santander</td>\n",
       "      <td>Cantabria</td>\n",
       "      <td>-3.809722</td>\n",
       "      <td>43.462167</td>\n",
       "    </tr>\n",
       "    <tr>\n",
       "      <th>19</th>\n",
       "      <td>Segovia</td>\n",
       "      <td>Segovia</td>\n",
       "      <td>-4.125241</td>\n",
       "      <td>40.949870</td>\n",
       "    </tr>\n",
       "    <tr>\n",
       "      <th>20</th>\n",
       "      <td>Sevilla</td>\n",
       "      <td>Sevilla</td>\n",
       "      <td>-5.992514</td>\n",
       "      <td>37.386205</td>\n",
       "    </tr>\n",
       "    <tr>\n",
       "      <th>21</th>\n",
       "      <td>Talavera de la Reina</td>\n",
       "      <td>Toledo</td>\n",
       "      <td>-4.833702</td>\n",
       "      <td>39.960167</td>\n",
       "    </tr>\n",
       "    <tr>\n",
       "      <th>22</th>\n",
       "      <td>Toledo</td>\n",
       "      <td>Toledo</td>\n",
       "      <td>-4.024975</td>\n",
       "      <td>39.856522</td>\n",
       "    </tr>\n",
       "    <tr>\n",
       "      <th>23</th>\n",
       "      <td>Zamora</td>\n",
       "      <td>Zamora</td>\n",
       "      <td>-5.754948</td>\n",
       "      <td>41.499140</td>\n",
       "    </tr>\n",
       "    <tr>\n",
       "      <th>24</th>\n",
       "      <td>Zaragoza</td>\n",
       "      <td>Zaragoza</td>\n",
       "      <td>-0.879287</td>\n",
       "      <td>41.656457</td>\n",
       "    </tr>\n",
       "    <tr>\n",
       "      <th>25</th>\n",
       "      <td>Alicante</td>\n",
       "      <td>Alicante</td>\n",
       "      <td>-0.483183</td>\n",
       "      <td>38.345487</td>\n",
       "    </tr>\n",
       "    <tr>\n",
       "      <th>26</th>\n",
       "      <td>Almería</td>\n",
       "      <td>Almería</td>\n",
       "      <td>-2.464132</td>\n",
       "      <td>36.838924</td>\n",
       "    </tr>\n",
       "    <tr>\n",
       "      <th>27</th>\n",
       "      <td>Ávila</td>\n",
       "      <td>Ávila</td>\n",
       "      <td>-4.697713</td>\n",
       "      <td>40.655870</td>\n",
       "    </tr>\n",
       "    <tr>\n",
       "      <th>28</th>\n",
       "      <td>Jávea</td>\n",
       "      <td>Alicante</td>\n",
       "      <td>0.163524</td>\n",
       "      <td>38.789062</td>\n",
       "    </tr>\n",
       "    <tr>\n",
       "      <th>29</th>\n",
       "      <td>A Coruña</td>\n",
       "      <td>A Coruña</td>\n",
       "      <td>-8.395502</td>\n",
       "      <td>43.371266</td>\n",
       "    </tr>\n",
       "    <tr>\n",
       "      <th>30</th>\n",
       "      <td>Mérida</td>\n",
       "      <td>Badajoz</td>\n",
       "      <td>-6.344172</td>\n",
       "      <td>38.917388</td>\n",
       "    </tr>\n",
       "    <tr>\n",
       "      <th>31</th>\n",
       "      <td>Sacedón</td>\n",
       "      <td>Guadalajara</td>\n",
       "      <td>-2.732880</td>\n",
       "      <td>40.480825</td>\n",
       "    </tr>\n",
       "    <tr>\n",
       "      <th>32</th>\n",
       "      <td>Sigüenza</td>\n",
       "      <td>Guadalajara</td>\n",
       "      <td>-2.640646</td>\n",
       "      <td>41.067499</td>\n",
       "    </tr>\n",
       "    <tr>\n",
       "      <th>33</th>\n",
       "      <td>Valencia</td>\n",
       "      <td>Valencia</td>\n",
       "      <td>-0.375657</td>\n",
       "      <td>39.475344</td>\n",
       "    </tr>\n",
       "    <tr>\n",
       "      <th>34</th>\n",
       "      <td>Málaga</td>\n",
       "      <td>Málaga</td>\n",
       "      <td>-4.419975</td>\n",
       "      <td>36.720343</td>\n",
       "    </tr>\n",
       "    <tr>\n",
       "      <th>35</th>\n",
       "      <td>Jaén</td>\n",
       "      <td>Jaén</td>\n",
       "      <td>-3.790359</td>\n",
       "      <td>37.765191</td>\n",
       "    </tr>\n",
       "    <tr>\n",
       "      <th>36</th>\n",
       "      <td>Saelices</td>\n",
       "      <td>Cuenca</td>\n",
       "      <td>-2.805578</td>\n",
       "      <td>39.920977</td>\n",
       "    </tr>\n",
       "  </tbody>\n",
       "</table>\n",
       "</div>"
      ],
      "text/plain": [
       "                  Pueblo    Provincia  Longitud    Latitud\n",
       "0               Albacete     Albacete -1.855747  38.995881\n",
       "1                Almansa     Albacete -1.094147  38.869688\n",
       "2                Andorra       Teruel -0.443719  40.975094\n",
       "3        Aranda de Duero       Burgos -3.689243  41.671551\n",
       "4                 Burgos       Burgos -3.704198  42.341130\n",
       "5              Calatayud     Zaragoza -1.644726  41.354319\n",
       "6            Ciudad Real  Ciudad Real -3.931320  38.986518\n",
       "7         Ciudad Rodrigo    Salamanca -6.534158  40.597309\n",
       "8                 Cuenca       Cuenca -2.131523  40.076538\n",
       "9                Granada      Granada -3.600019  37.176419\n",
       "10                Huelva       Huelva -6.950406  37.260041\n",
       "11                Huesca       Huesca -0.408423  42.140627\n",
       "12                  Lugo         Lugo -7.555755  43.009890\n",
       "13                Murcia       Murcia -1.128541  37.984364\n",
       "14             Plasencia      Cáceres -6.092682  40.029405\n",
       "15            Ponferrada         León -6.597295  42.547683\n",
       "16                 Riaza      Segovia -3.477252  41.279740\n",
       "17             Salamanca    Salamanca -5.665381  40.967368\n",
       "18             Santander    Cantabria -3.809722  43.462167\n",
       "19               Segovia      Segovia -4.125241  40.949870\n",
       "20               Sevilla      Sevilla -5.992514  37.386205\n",
       "21  Talavera de la Reina       Toledo -4.833702  39.960167\n",
       "22                Toledo       Toledo -4.024975  39.856522\n",
       "23                Zamora       Zamora -5.754948  41.499140\n",
       "24              Zaragoza     Zaragoza -0.879287  41.656457\n",
       "25              Alicante     Alicante -0.483183  38.345487\n",
       "26               Almería      Almería -2.464132  36.838924\n",
       "27                 Ávila        Ávila -4.697713  40.655870\n",
       "28                 Jávea     Alicante  0.163524  38.789062\n",
       "29              A Coruña     A Coruña -8.395502  43.371266\n",
       "30                Mérida      Badajoz -6.344172  38.917388\n",
       "31               Sacedón  Guadalajara -2.732880  40.480825\n",
       "32              Sigüenza  Guadalajara -2.640646  41.067499\n",
       "33              Valencia     Valencia -0.375657  39.475344\n",
       "34                Málaga       Málaga -4.419975  36.720343\n",
       "35                  Jaén         Jaén -3.790359  37.765191\n",
       "36              Saelices       Cuenca -2.805578  39.920977"
      ]
     },
     "execution_count": 19,
     "metadata": {},
     "output_type": "execute_result"
    }
   ],
   "source": [
    "#Cargo el dataset de las coordenadas de mis puntos cardinales para calcular las distancias\n",
    "\n",
    "p_cardinales = pd.read_csv('./data/puntos_cardinales_punto.csv')\n",
    "p_cardinales"
   ]
  },
  {
   "cell_type": "code",
   "execution_count": 20,
   "id": "7418a768",
   "metadata": {},
   "outputs": [],
   "source": [
    "#Ahora hago match entre la dirección que ha elegido el usuario y las opciones que tengo\n",
    "\n",
    "def user_direction(direction, result):\n",
    "    if direction == 'north' or direction == 'N' or direction == 'North':\n",
    "        return result['N']\n",
    "    elif direction == 'northwest' or direction == 'NW' or direction == 'Northwest' or direction == 'NorthWest':\n",
    "        return result['NO']\n",
    "    elif direction == 'west' or direction == 'West' or direction == 'W':\n",
    "        return result['O']\n",
    "    elif direction == 'southwest' or direction == 'Southwest' or direction == 'SouthWest' or direction == 'SW':\n",
    "        return result['SO']\n",
    "    elif direction == 'south' or direction == direction == 'S' or direction == 'South':\n",
    "        return result['S']\n",
    "    elif direction == 'southeast' or direction == 'Southeast' or direction == 'SouthEast' or direction == 'SE':\n",
    "        return result['SE']\n",
    "    elif direction == 'east' or direction == 'East' or direction == 'E':\n",
    "        return result['E']\n",
    "    elif direction == 'northeast' or direction == 'Northeast' or direction == 'NorthEast' or direction == 'NE':\n",
    "        return result['NE']\n",
    "    else:\n",
    "        return 'I am not able to find the direction'"
   ]
  },
  {
   "cell_type": "code",
   "execution_count": 21,
   "id": "203671cb",
   "metadata": {},
   "outputs": [],
   "source": [
    "#Guardo el resultado en un diccionario\n",
    "\n",
    "result = {'N': result['N'], 'NO': result['NO'], 'O': result['O'], 'NE': result['NE'],\n",
    "          'S': result['S'], 'SO': result['SO'], 'SE': result['SE'], 'E': result['E']}"
   ]
  },
  {
   "cell_type": "code",
   "execution_count": 22,
   "id": "d1c04102",
   "metadata": {},
   "outputs": [
    {
     "data": {
      "text/plain": [
       "'Granada'"
      ]
     },
     "execution_count": 22,
     "metadata": {},
     "output_type": "execute_result"
    }
   ],
   "source": [
    "output = user_direction(direction, result)\n",
    "output"
   ]
  },
  {
   "cell_type": "code",
   "execution_count": null,
   "id": "c38c21f8",
   "metadata": {
    "scrolled": false
   },
   "outputs": [],
   "source": [
    "#Guardo en las variables de latitud y longitud desde dónde quiero crear el radio de los pueblos que recomendar\n",
    "\n",
    "row = p_cardinales[p_cardinales['Pueblo'] == output]\n",
    "row"
   ]
  },
  {
   "cell_type": "code",
   "execution_count": null,
   "id": "b80cebfe",
   "metadata": {},
   "outputs": [],
   "source": [
    "idx = row.index[row['Pueblo'] == output][0]"
   ]
  },
  {
   "cell_type": "code",
   "execution_count": null,
   "id": "ac532e72",
   "metadata": {},
   "outputs": [],
   "source": [
    "idx"
   ]
  },
  {
   "cell_type": "code",
   "execution_count": null,
   "id": "86495156",
   "metadata": {},
   "outputs": [],
   "source": [
    "lat_origen = row['Latitud'][idx]\n",
    "long_origen = row['Longitud'][idx]"
   ]
  },
  {
   "cell_type": "code",
   "execution_count": null,
   "id": "9a734840",
   "metadata": {},
   "outputs": [],
   "source": [
    "lat_origen"
   ]
  },
  {
   "cell_type": "code",
   "execution_count": null,
   "id": "49930d70",
   "metadata": {},
   "outputs": [],
   "source": [
    "long_origen"
   ]
  },
  {
   "cell_type": "code",
   "execution_count": null,
   "id": "92a62b78",
   "metadata": {},
   "outputs": [],
   "source": [
    "def haversine(lat1, lon1, lat2, lon2):\n",
    "    R = 6371  # Radius of the Earth in kilometers\n",
    "\n",
    "    # Convert degrees to radians\n",
    "    lat1, lon1, lat2, lon2 = map(radians, [lat1, lon1, lat2, lon2])\n",
    "\n",
    "    # Calculate differences\n",
    "    dlat = lat2 - lat1\n",
    "    dlon = lon2 - lon1\n",
    "\n",
    "    # Haversine formula\n",
    "    a = sin(dlat / 2) ** 2 + cos(lat1) * cos(lat2) * sin(dlon / 2) ** 2\n",
    "    c = 2 * atan2(sqrt(a), sqrt(1 - a))\n",
    "\n",
    "    # Calculate distance\n",
    "    distance = R * c\n",
    "    return distance"
   ]
  },
  {
   "cell_type": "code",
   "execution_count": null,
   "id": "876cde8c",
   "metadata": {},
   "outputs": [],
   "source": [
    "type(row)"
   ]
  },
  {
   "cell_type": "code",
   "execution_count": null,
   "id": "a8ad30a5",
   "metadata": {},
   "outputs": [],
   "source": [
    "row.head()"
   ]
  },
  {
   "cell_type": "code",
   "execution_count": null,
   "id": "0d2d7793",
   "metadata": {},
   "outputs": [],
   "source": [
    "row.info()"
   ]
  },
  {
   "cell_type": "code",
   "execution_count": null,
   "id": "640503c7",
   "metadata": {},
   "outputs": [],
   "source": [
    "long_origen"
   ]
  },
  {
   "cell_type": "code",
   "execution_count": null,
   "id": "cd1bd3f7",
   "metadata": {},
   "outputs": [],
   "source": [
    "municipios[\"Distance\"] = municipios.apply(lambda row: haversine(row[\"Latitud\"], row[\"Longitud\"], lat_origen, long_origen), axis=1)\n"
   ]
  },
  {
   "cell_type": "code",
   "execution_count": null,
   "id": "1db85577",
   "metadata": {
    "scrolled": true
   },
   "outputs": [],
   "source": [
    "municipios"
   ]
  },
  {
   "cell_type": "code",
   "execution_count": null,
   "id": "928eb688",
   "metadata": {
    "scrolled": false
   },
   "outputs": [],
   "source": [
    "top_3 = municipios.sort_values(by='Distance').reset_index(drop=True)[:3]\n",
    "top_3"
   ]
  },
  {
   "cell_type": "code",
   "execution_count": null,
   "id": "01d011c0",
   "metadata": {},
   "outputs": [],
   "source": [
    "one = top_3.iloc[0, top_3.columns.get_loc('Pueblo')]\n",
    "two = top_3.iloc[1, top_3.columns.get_loc('Pueblo')]\n",
    "three = top_3.iloc[2, top_3.columns.get_loc('Pueblo')]"
   ]
  },
  {
   "cell_type": "code",
   "execution_count": null,
   "id": "3b49432b",
   "metadata": {
    "scrolled": false
   },
   "outputs": [],
   "source": [
    "print('Cool! I recommend you to visit these 3 villages selected as Pueblos Bonitos de España: ') \n",
    "print(one)\n",
    "print(two)\n",
    "print(three)"
   ]
  },
  {
   "cell_type": "code",
   "execution_count": null,
   "id": "e6b3dcf2",
   "metadata": {},
   "outputs": [],
   "source": [
    "print('Now, let me give you some ideas of monuments that you should visit: ') "
   ]
  },
  {
   "cell_type": "code",
   "execution_count": null,
   "id": "e145114f",
   "metadata": {},
   "outputs": [],
   "source": [
    "#prompt = f\"Let me know the top places to visit in {one}.\""
   ]
  },
  {
   "cell_type": "code",
   "execution_count": null,
   "id": "6689d94b",
   "metadata": {},
   "outputs": [],
   "source": [
    "#model_id=\"gpt-3.5-turbo\""
   ]
  },
  {
   "cell_type": "code",
   "execution_count": null,
   "id": "46afd569",
   "metadata": {},
   "outputs": [],
   "source": [
    "def generate_monuments_prompt(place):\n",
    "    chat_prompt = [\n",
    "        {\"role\": \"system\", \"content\": \"You are a helpful assistant.\"},\n",
    "        {\"role\": \"user\", \"content\": f\"List the top places to visit in {place} but\\\n",
    "        don't explain them and do not give me a introduction , just the answer with\\\n",
    "        the list. After that, let me know where I should park to sleep in a campervan.\\\n",
    "        Last, list me the 3 most common tracking routes and show me the amount of kilometers\\\n",
    "        and the difficulty level rated by easy, medium or high.\"}\n",
    "    ]\n",
    "\n",
    "    response = openai.ChatCompletion.create(\n",
    "        model=\"gpt-3.5-turbo\",\n",
    "        messages=chat_prompt\n",
    "    )\n",
    "\n",
    "    return response.choices[0].message.content.strip()"
   ]
  },
  {
   "cell_type": "code",
   "execution_count": null,
   "id": "ab536fd9",
   "metadata": {},
   "outputs": [],
   "source": [
    "place = one "
   ]
  },
  {
   "cell_type": "code",
   "execution_count": null,
   "id": "24d6b318",
   "metadata": {},
   "outputs": [],
   "source": [
    "response_text = generate_monuments_prompt(place)\n",
    "print(one)\n",
    "print(response_text)"
   ]
  },
  {
   "cell_type": "code",
   "execution_count": null,
   "id": "f8882281",
   "metadata": {},
   "outputs": [],
   "source": [
    "place = two"
   ]
  },
  {
   "cell_type": "code",
   "execution_count": null,
   "id": "157f320f",
   "metadata": {},
   "outputs": [],
   "source": [
    "response_text = generate_monuments_prompt(place)\n",
    "print(two)\n",
    "print(response_text)"
   ]
  },
  {
   "cell_type": "code",
   "execution_count": null,
   "id": "d6dbf421",
   "metadata": {},
   "outputs": [],
   "source": [
    "place = three"
   ]
  },
  {
   "cell_type": "code",
   "execution_count": null,
   "id": "b779b819",
   "metadata": {},
   "outputs": [],
   "source": [
    "response_text = generate_monuments_prompt(place)\n",
    "print(three)\n",
    "print(response_text)"
   ]
  },
  {
   "cell_type": "code",
   "execution_count": null,
   "id": "32097fd4",
   "metadata": {},
   "outputs": [],
   "source": [
    "print('Do you want a restaurant recommendation?') "
   ]
  },
  {
   "cell_type": "code",
   "execution_count": null,
   "id": "00b15535",
   "metadata": {},
   "outputs": [],
   "source": []
  }
 ],
 "metadata": {
  "kernelspec": {
   "display_name": "project_new_env",
   "language": "python",
   "name": "project_new_env"
  },
  "language_info": {
   "codemirror_mode": {
    "name": "ipython",
    "version": 3
   },
   "file_extension": ".py",
   "mimetype": "text/x-python",
   "name": "python",
   "nbconvert_exporter": "python",
   "pygments_lexer": "ipython3",
   "version": "3.11.3"
  }
 },
 "nbformat": 4,
 "nbformat_minor": 5
}
