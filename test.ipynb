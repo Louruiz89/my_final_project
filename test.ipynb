{
 "cells": [
  {
   "cell_type": "code",
   "execution_count": 2,
   "id": "05ccf125",
   "metadata": {},
   "outputs": [
    {
     "name": "stdout",
     "output_type": "stream",
     "text": [
      "My id is: 12345689.\n",
      "My secret key is: gsabijwjnciiwbjksa.\n"
     ]
    }
   ],
   "source": [
    "from dotenv import load_dotenv\n",
    "import os #provides ways to access the Operating System and allows us to read the environment variables\n",
    "\n",
    "load_dotenv()\n",
    "\n",
    "my_id = os.getenv(\"ID\")\n",
    "my_secret_key = os.getenv(\"SECRET_KEY\")\n",
    "\n",
    "def myEnvironment():\n",
    "    print(f'My id is: {my_id}.')\n",
    "    print(f'My secret key is: {my_secret_key}.')\n",
    "\n",
    "if __name__ == \"__main__\":\n",
    "    myEnvironment()"
   ]
  },
  {
   "cell_type": "code",
   "execution_count": 3,
   "id": "fe001b59",
   "metadata": {},
   "outputs": [
    {
     "name": "stdout",
     "output_type": "stream",
     "text": [
      "12345689\n"
     ]
    }
   ],
   "source": [
    "print(my_id)"
   ]
  },
  {
   "cell_type": "code",
   "execution_count": 4,
   "id": "29e3732d",
   "metadata": {},
   "outputs": [
    {
     "name": "stdout",
     "output_type": "stream",
     "text": [
      "hola\n"
     ]
    }
   ],
   "source": [
    "print(\"hola\")"
   ]
  },
  {
   "cell_type": "code",
   "execution_count": null,
   "id": "39c0b395",
   "metadata": {},
   "outputs": [],
   "source": []
  }
 ],
 "metadata": {
  "kernelspec": {
   "display_name": "project_new_env",
   "language": "python",
   "name": "project_new_env"
  },
  "language_info": {
   "codemirror_mode": {
    "name": "ipython",
    "version": 3
   },
   "file_extension": ".py",
   "mimetype": "text/x-python",
   "name": "python",
   "nbconvert_exporter": "python",
   "pygments_lexer": "ipython3",
   "version": "3.11.3"
  }
 },
 "nbformat": 4,
 "nbformat_minor": 5
}
