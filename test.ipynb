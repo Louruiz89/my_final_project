{
 "cells": [
  {
   "cell_type": "code",
   "execution_count": null,
   "id": "05ccf125",
   "metadata": {},
   "outputs": [],
   "source": [
    "#Just a test"
   ]
  }
 ],
 "metadata": {
  "kernelspec": {
   "display_name": "project_new_env",
   "language": "python",
   "name": "project_new_env"
  },
  "language_info": {
   "codemirror_mode": {
    "name": "ipython",
    "version": 3
   },
   "file_extension": ".py",
   "mimetype": "text/x-python",
   "name": "python",
   "nbconvert_exporter": "python",
   "pygments_lexer": "ipython3",
   "version": "3.11.3"
  }
 },
 "nbformat": 4,
 "nbformat_minor": 5
}
