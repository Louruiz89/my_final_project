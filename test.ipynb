{
 "cells": [
  {
   "cell_type": "code",
   "execution_count": 2,
   "id": "05ccf125",
   "metadata": {},
   "outputs": [
    {
     "name": "stdout",
     "output_type": "stream",
     "text": [
      "My id is: 12345689.\n",
      "My secret key is: gsabijwjnciiwbjksa.\n"
     ]
    }
   ],
   "source": [
    "from dotenv import load_dotenv\n",
    "import os #provides ways to access the Operating System and allows us to read the environment variables\n",
    "\n",
    "load_dotenv()\n",
    "\n",
    "my_id = os.getenv(\"ID\")\n",
    "my_secret_key = os.getenv(\"SECRET_KEY\")\n",
    "\n",
    "def myEnvironment():\n",
    "    print(f'My id is: {my_id}.')\n",
    "    print(f'My secret key is: {my_secret_key}.')\n",
    "\n",
    "if __name__ == \"__main__\":\n",
    "    myEnvironment()"
   ]
  },
  {
   "cell_type": "code",
   "execution_count": 3,
   "id": "fe001b59",
   "metadata": {},
   "outputs": [
    {
     "name": "stdout",
     "output_type": "stream",
     "text": [
      "12345689\n"
     ]
    }
   ],
   "source": [
    "print(my_id)"
   ]
  },
  {
   "cell_type": "code",
   "execution_count": 4,
   "id": "29e3732d",
   "metadata": {},
   "outputs": [
    {
     "name": "stdout",
     "output_type": "stream",
     "text": [
      "hola\n"
     ]
    }
   ],
   "source": [
    "print(\"hola\")"
   ]
  },
  {
   "cell_type": "code",
   "execution_count": 2,
   "id": "39c0b395",
   "metadata": {},
   "outputs": [],
   "source": [
    "from dotenv import load_dotenv\n",
    "import os #provides ways to access the Operating System and allows us to read the environment variables\n",
    "import openai\n"
   ]
  },
  {
   "cell_type": "code",
   "execution_count": 3,
   "id": "6a00803f",
   "metadata": {},
   "outputs": [
    {
     "data": {
      "text/plain": [
       "True"
      ]
     },
     "execution_count": 3,
     "metadata": {},
     "output_type": "execute_result"
    }
   ],
   "source": [
    "load_dotenv()\n"
   ]
  },
  {
   "cell_type": "code",
   "execution_count": 4,
   "id": "f61bfe81",
   "metadata": {},
   "outputs": [],
   "source": [
    "\n",
    "my_secret_key = os.getenv(\"my_openai_key\")"
   ]
  },
  {
   "cell_type": "code",
   "execution_count": 7,
   "id": "548561c4",
   "metadata": {},
   "outputs": [],
   "source": [
    "openai.api_key = my_secret_key"
   ]
  },
  {
   "cell_type": "code",
   "execution_count": 8,
   "id": "0941294d",
   "metadata": {},
   "outputs": [
    {
     "name": "stdout",
     "output_type": "stream",
     "text": [
      ", there lived a poor woodcutter and his wife. They did not have much money, but they were happy. \n",
      "\n",
      "One day the woodcutter was out in the woods chopping wood. Suddenly, he noticed a small cottage. Int\n"
     ]
    }
   ],
   "source": [
    "response = openai.Completion.create(\n",
    "  engine=\"text-davinci-003\",\n",
    "  prompt=\"Once upon a time\",\n",
    "  max_tokens=50\n",
    ")\n",
    "\n",
    "print(response.choices[0].text.strip())"
   ]
  },
  {
   "cell_type": "code",
   "execution_count": null,
   "id": "8f0bceb0",
   "metadata": {},
   "outputs": [],
   "source": []
  }
 ],
 "metadata": {
  "kernelspec": {
   "display_name": "project_new_env",
   "language": "python",
   "name": "project_new_env"
  },
  "language_info": {
   "codemirror_mode": {
    "name": "ipython",
    "version": 3
   },
   "file_extension": ".py",
   "mimetype": "text/x-python",
   "name": "python",
   "nbconvert_exporter": "python",
   "pygments_lexer": "ipython3",
   "version": "3.11.3"
  }
 },
 "nbformat": 4,
 "nbformat_minor": 5
}
