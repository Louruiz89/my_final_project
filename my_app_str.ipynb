{
 "cells": [
  {
   "cell_type": "code",
   "execution_count": null,
   "id": "39c0b395",
   "metadata": {},
   "outputs": [],
   "source": [
    "#Los 3 primeros imports son para llamar a la API de ChatGPT\n",
    "from dotenv import load_dotenv\n",
    "import os #provides ways to access the Operating System and allows us to read the environment variables\n",
    "import openai\n",
    "\n",
    "import requests #Este import es para llamar a la API del tiempo\n",
    "\n",
    "import pandas as pd #Este import es para cargar el CSV de latitud y longitud de todos los pueblos de españa\n",
    "\n",
    "from haversine import haversine, Unit #Estos import son para calcular las distancias de lat y long\n",
    "from math import radians, sin, cos, sqrt, atan2\n",
    "\n",
    "\n",
    "import streamlit as st #Es para poder crear la APP"
   ]
  },
  {
   "cell_type": "code",
   "execution_count": null,
   "id": "256d0478",
   "metadata": {},
   "outputs": [],
   "source": [
    "#Referencias streamlit https://seraph13.medium.com/tutorial-introductorio-de-streamlit-be78f225b434\n",
    "\n",
    "st.title(\"CampToGo\")"
   ]
  },
  {
   "cell_type": "code",
   "execution_count": null,
   "id": "e436bd4a",
   "metadata": {},
   "outputs": [],
   "source": [
    "st.header(\"Welcome user\")\n",
    "st.subheader(\"This is the APP that helps you to plan your last minute road trip in Campervan starting from Madrid\")"
   ]
  },
  {
   "cell_type": "code",
   "execution_count": null,
   "id": "51ad01d9",
   "metadata": {},
   "outputs": [],
   "source": []
  },
  {
   "cell_type": "code",
   "execution_count": null,
   "id": "f61bfe81",
   "metadata": {},
   "outputs": [],
   "source": [
    "#Llamo a la API de chatGPT aunque ahora he decidido no empezar usandola\n",
    "\n",
    "load_dotenv()\n",
    "my_secret_key = os.getenv(\"my_openai_key\")"
   ]
  },
  {
   "cell_type": "code",
   "execution_count": null,
   "id": "548561c4",
   "metadata": {},
   "outputs": [],
   "source": [
    "#Llamo a la contraseña que tengo guardada en .env\n",
    "\n",
    "openai.api_key = my_secret_key"
   ]
  },
  {
   "cell_type": "code",
   "execution_count": null,
   "id": "cc81ae7a",
   "metadata": {},
   "outputs": [],
   "source": [
    "#Le doy la bienvenida al usuario\n",
    "\n",
    "#print(\"Welcome to the APP that helps you to plan your last minute road trip in Campervan starting from Madrid\")"
   ]
  },
  {
   "cell_type": "code",
   "execution_count": null,
   "id": "46454b06",
   "metadata": {},
   "outputs": [],
   "source": [
    "#Le pregunto al usuario cuantos días va a viajar ya que es la base de mi elección de itinerario\n",
    "\n",
    "#days = int(input(\"Please enter how many days are you going to travel: \"))"
   ]
  },
  {
   "cell_type": "code",
   "execution_count": null,
   "id": "13dae2cb",
   "metadata": {},
   "outputs": [],
   "source": [
    "days = st.number_input('Please enter how many days are you going to travel:')"
   ]
  },
  {
   "cell_type": "code",
   "execution_count": null,
   "id": "1fa38667",
   "metadata": {},
   "outputs": [],
   "source": [
    "#Creo un diccionario en base al radio de KM para usarlo como referencia para saber el tiempo\n",
    "\n",
    "dictionary = {\n",
    "    'N': ['Riaza', 'Aranda de Duero', 'Burgos', 'Santander', 'Santander'],\n",
    "    'NO': ['Segovia', 'Zamora', 'Ponferrada', 'Lugo', 'A Coruña'],\n",
    "    'O': ['Ávila', 'Salamanca', 'Ciudad Rodrigo', 'Ciudad Rodrigo', 'Ciudad Rodrigo'],\n",
    "    'SO': ['Talavera de la Reina', 'Plasencia', 'Mérida', 'Sevilla', 'Huelva'],\n",
    "    'S': ['Toledo', 'Ciudad Real', 'Jaén', 'Granada', 'Málaga'],\n",
    "    'SE': ['Saelices', 'Albacete', 'Almansa', 'Murcia', 'Almería'],\n",
    "    'E': ['Sacedón', 'Cuenca', 'Valencia', 'Jávea', 'Alicante'],\n",
    "    'NE': ['Sigüenza', 'Calatayud', 'Zaragoza', 'Huesca', 'Andorra']}"
   ]
  },
  {
   "cell_type": "code",
   "execution_count": null,
   "id": "cbcd2de2",
   "metadata": {},
   "outputs": [],
   "source": [
    "#Creo una función para que me calcule la posición en el diccionario en base a los días que va a viajar el usuario\n",
    "# Pero si introduce más de 5 días le devuelvo la última posición del diccionario independientemente de los días\n",
    "\n",
    "def days_limited(days: int):\n",
    "    \n",
    "    d = 0\n",
    "    \n",
    "    if days >=8:\n",
    "        d = 4\n",
    "    elif days == 7 or days >= 2: \n",
    "        d = int(days - 2)\n",
    "    else:\n",
    "        d = 0\n",
    "        \n",
    "    return d"
   ]
  },
  {
   "cell_type": "code",
   "execution_count": null,
   "id": "3bb09313",
   "metadata": {},
   "outputs": [],
   "source": [
    "days_lim = days_limited(days)\n",
    "days_lim"
   ]
  },
  {
   "cell_type": "code",
   "execution_count": null,
   "id": "8013729e",
   "metadata": {},
   "outputs": [],
   "source": [
    "#Creo una función para que me genere automaticamente las ubicaciones en base a los días de viaje\n",
    "\n",
    "def get_places(dictionary, d):\n",
    "    values = {}\n",
    "    for key, value_list in dictionary.items():\n",
    "        if d < len(value_list):\n",
    "            values[key] = value_list[d]\n",
    "    return values"
   ]
  },
  {
   "cell_type": "code",
   "execution_count": null,
   "id": "98cf98f2",
   "metadata": {},
   "outputs": [],
   "source": [
    "#Reviso que me devuelva el resultado correcto https://www.weatherapi.com/docs/\n",
    "\n",
    "result = get_places(dictionary, days_lim)\n",
    "result"
   ]
  },
  {
   "cell_type": "code",
   "execution_count": null,
   "id": "515ca7e9",
   "metadata": {},
   "outputs": [],
   "source": [
    "#Creo todas las variables para llamar a la API del tiempo menos \"q\" que representa el lugar \n",
    "#de dónde quiero ver la previsión del tiempo\n",
    "load_dotenv()\n",
    "url = 'http://api.weatherapi.com/v1'\n",
    "forecast = '/forecast.json?'\n",
    "pre = 'key='\n",
    "key =os.getenv(\"my_weather_token\")\n",
    "wdays = '&days=1'\n",
    "final = '&aqi=no&alerts=no'\n",
    "\n",
    "#print(url + forecast + pre + key + wdays + final)"
   ]
  },
  {
   "cell_type": "code",
   "execution_count": null,
   "id": "925cf89e",
   "metadata": {},
   "outputs": [],
   "source": [
    "#Ahora creo una variable \"q\" para cada punto cardinal\n",
    "\n",
    "q_var = '&q='\n",
    "norte = q_var + result['N']\n",
    "noroeste = q_var + result['NO']\n",
    "oeste = q_var + result['O']\n",
    "suroeste = q_var + result['SO']\n",
    "sur = q_var + result['S']\n",
    "sureste = q_var + result['SE']\n",
    "este = q_var + result['E']\n",
    "noreste = q_var + result['NE']"
   ]
  },
  {
   "cell_type": "code",
   "execution_count": null,
   "id": "a01da0ed",
   "metadata": {},
   "outputs": [],
   "source": [
    "#Creo una llamada a la API para cada lugar\n",
    "\n",
    "check_rain_north = requests.get(url + forecast + pre + key + norte + wdays + final)\n",
    "check_rain_nortwest = requests.get(url + forecast + pre + key + noroeste + wdays + final)\n",
    "check_rain_west = requests.get(url + forecast + pre + key + oeste + wdays + final)\n",
    "check_rain_southwest = requests.get(url + forecast + pre + key + suroeste + wdays + final)\n",
    "check_rain_south = requests.get(url + forecast + pre + key + sur + wdays + final)\n",
    "check_rain_southeast = requests.get(url + forecast + pre + key + sureste + wdays + final)\n",
    "check_rain_east = requests.get(url + forecast + pre + key + este + wdays + final)\n",
    "check_rain_northeast = requests.get(url + forecast + pre + key + noreste + wdays + final)\n",
    "\n",
    "#check_rain_southeast.status_code"
   ]
  },
  {
   "cell_type": "code",
   "execution_count": null,
   "id": "c447744f",
   "metadata": {},
   "outputs": [],
   "source": [
    "check_rain_north_result = check_rain_north.json()\n",
    "check_rain_nortwest_result = check_rain_nortwest.json()\n",
    "check_rain_west_result = check_rain_west.json()\n",
    "check_rain_southwest_result = check_rain_southwest.json() \n",
    "check_rain_south_result = check_rain_south.json() \n",
    "check_rain_southeast_result = check_rain_southeast.json()\n",
    "check_rain_east_result = check_rain_east.json()\n",
    "check_rain_northeast_result = check_rain_northeast.json()"
   ]
  },
  {
   "cell_type": "code",
   "execution_count": null,
   "id": "4c11109c",
   "metadata": {
    "scrolled": true
   },
   "outputs": [],
   "source": [
    "print(\"Awesome! I suggest to travel to the following directions as the others could rain tomorrow\")\n",
    "\n",
    "#North\n",
    "if check_rain_north_result['forecast'][\"forecastday\"][0]['day']['daily_chance_of_rain'] == 0:\n",
    "    print('North')\n",
    "    \n",
    "#Northwest\n",
    "if check_rain_nortwest_result['forecast'][\"forecastday\"][0]['day']['daily_chance_of_rain'] == 0:\n",
    "    print('Northwest')\n",
    "\n",
    "#West\n",
    "if check_rain_west_result['forecast'][\"forecastday\"][0]['day']['daily_chance_of_rain'] == 0:\n",
    "    print('West')\n",
    "    \n",
    "#Southwest\n",
    "if check_rain_southwest_result['forecast'][\"forecastday\"][0]['day']['daily_chance_of_rain'] == 0:\n",
    "    print('Southwest')\n",
    "    \n",
    "#South\n",
    "if check_rain_south_result['forecast'][\"forecastday\"][0]['day']['daily_chance_of_rain'] == 0:\n",
    "    print('South')\n",
    "\n",
    "#Southeast\n",
    "if check_rain_southeast_result['forecast'][\"forecastday\"][0]['day']['daily_chance_of_rain'] == 0:\n",
    "    print('Southeast')\n",
    "\n",
    "#East\n",
    "if check_rain_east_result['forecast'][\"forecastday\"][0]['day']['daily_chance_of_rain'] == 0:\n",
    "    print('East')\n",
    "    \n",
    "#Northeast\n",
    "if check_rain_northeast_result['forecast'][\"forecastday\"][0]['day']['daily_chance_of_rain'] == 0:\n",
    "    print('Northeast')"
   ]
  },
  {
   "cell_type": "code",
   "execution_count": 1,
   "id": "bf3d57ee",
   "metadata": {},
   "outputs": [
    {
     "ename": "SyntaxError",
     "evalue": "invalid syntax (2880246246.py, line 3)",
     "output_type": "error",
     "traceback": [
      "\u001b[1;36m  Cell \u001b[1;32mIn[1], line 3\u001b[1;36m\u001b[0m\n\u001b[1;33m    return n_result = 'North'\u001b[0m\n\u001b[1;37m                    ^\u001b[0m\n\u001b[1;31mSyntaxError\u001b[0m\u001b[1;31m:\u001b[0m invalid syntax\n"
     ]
    }
   ],
   "source": [
    "def not_raining_places():\n",
    "    if check_rain_north_result['forecast'][\"forecastday\"][0]['day']['daily_chance_of_rain'] == 0:\n",
    "        return n_result = 'North'\n",
    "    elif check_rain_nortwest_result['forecast'][\"forecastday\"][0]['day']['daily_chance_of_rain'] == 0:\n",
    "        return no_result = 'Northwest'\n",
    "    elif check_rain_west_result['forecast'][\"forecastday\"][0]['day']['daily_chance_of_rain'] == 0: \n",
    "        return w_result = 'West'\n",
    "    elif check_rain_southwest_result['forecast'][\"forecastday\"][0]['day']['daily_chance_of_rain'] == 0: \n",
    "        return sw_result = 'Southwest'\n",
    "    elif check_rain_south_result['forecast'][\"forecastday\"][0]['day']['daily_chance_of_rain'] == 0:\n",
    "        return s_result = 'South'\n",
    "    if check_rain_southeast_result['forecast'][\"forecastday\"][0]['day']['daily_chance_of_rain'] == 0:\n",
    "        return sw_result = 'Southeast'\n",
    "    if check_rain_east_result['forecast'][\"forecastday\"][0]['day']['daily_chance_of_rain'] == 0:  \n",
    "        return w_result = 'East'\n",
    "    if check_rain_northeast_result['forecast'][\"forecastday\"][0]['day']['daily_chance_of_rain'] == 0:\n",
    "        return sw_result = 'NorthEast'\n",
    "print(return)"
   ]
  },
  {
   "cell_type": "code",
   "execution_count": null,
   "id": "4d77a7f3",
   "metadata": {},
   "outputs": [],
   "source": [
    "#Ahora le pido al usuario que elija el punto cardinal\n",
    "\n",
    "#direction = input('Choose one: ')"
   ]
  },
  {
   "cell_type": "code",
   "execution_count": null,
   "id": "0a33b7ce",
   "metadata": {},
   "outputs": [],
   "source": [
    "direction = st.text_input('Choose one: ')"
   ]
  },
  {
   "cell_type": "code",
   "execution_count": null,
   "id": "a8abdd3e",
   "metadata": {},
   "outputs": [],
   "source": [
    "#Cargo el dataset de municipios para tener las coordenadas\n",
    "\n",
    "municipios = pd.read_csv('./data/pueblos_bonitos_punto.csv')\n",
    "municipios[:8]"
   ]
  },
  {
   "cell_type": "code",
   "execution_count": null,
   "id": "adf59eaf",
   "metadata": {},
   "outputs": [],
   "source": [
    "#Cargo el dataset de las coordenadas de mis puntos cardinales para calcular las distancias\n",
    "\n",
    "p_cardinales = pd.read_csv('./data/puntos_cardinales_punto.csv')\n",
    "p_cardinales"
   ]
  },
  {
   "cell_type": "code",
   "execution_count": null,
   "id": "f0bca3c9",
   "metadata": {},
   "outputs": [],
   "source": [
    "#Ahora hago match entre la dirección que ha elegido el usuario y las opciones que tengo\n",
    "\n",
    "def user_direction(direction, result):\n",
    "    if direction == 'north' or direction == 'N' or direction == 'North':\n",
    "        return result['N']\n",
    "    elif direction == 'northwest' or direction == 'NW' or direction == 'Northwest' or direction == 'NorthWest':\n",
    "        return result['NO']\n",
    "    elif direction == 'west' or direction == 'West' or direction == 'W':\n",
    "        return result['O']\n",
    "    elif direction == 'southwest' or direction == 'Southwest' or direction == 'SouthWest' or direction == 'SW':\n",
    "        return result['SO']\n",
    "    elif direction == 'south' or direction == direction == 'S' or direction == 'South':\n",
    "        return result['S']\n",
    "    elif direction == 'southeast' or direction == 'Southeast' or direction == 'SouthEast' or direction == 'SE':\n",
    "        return result['SE']\n",
    "    elif direction == 'east' or direction == 'East' or direction == 'E':\n",
    "        return result['E']\n",
    "    elif direction == 'northeast' or direction == 'Northeast' or direction == 'NorthEast' or direction == 'NE':\n",
    "        return result['NE']\n",
    "    else:\n",
    "        return 'I am not able to find the direction'"
   ]
  },
  {
   "cell_type": "code",
   "execution_count": null,
   "id": "43c54c1c",
   "metadata": {},
   "outputs": [],
   "source": [
    "#Guardo el resultado en un diccionario\n",
    "\n",
    "result = {'N': result['N'], 'NO': result['NO'], 'O': result['O'], 'NE': result['NE'],\n",
    "          'S': result['S'], 'SO': result['SO'], 'SE': result['SE'], 'E': result['E']}"
   ]
  },
  {
   "cell_type": "code",
   "execution_count": null,
   "id": "d90647cc",
   "metadata": {},
   "outputs": [],
   "source": [
    "output = user_direction(direction, result)\n",
    "output"
   ]
  },
  {
   "cell_type": "code",
   "execution_count": null,
   "id": "aacf42f5",
   "metadata": {
    "scrolled": false
   },
   "outputs": [],
   "source": [
    "#Guardo en las variables de latitud y longitud desde dónde quiero crear el radio de los pueblos que recomendar\n",
    "\n",
    "row = p_cardinales[p_cardinales['Pueblo'] == output]\n",
    "row"
   ]
  },
  {
   "cell_type": "code",
   "execution_count": null,
   "id": "2d41c31d",
   "metadata": {},
   "outputs": [],
   "source": [
    "idx = row.index[row['Pueblo'] == output][0]\n",
    "idx"
   ]
  },
  {
   "cell_type": "code",
   "execution_count": null,
   "id": "39d74d40",
   "metadata": {},
   "outputs": [],
   "source": [
    "lat_origen = row['Latitud'][idx]\n",
    "long_origen = row['Longitud'][idx]"
   ]
  },
  {
   "cell_type": "code",
   "execution_count": null,
   "id": "5a1f391d",
   "metadata": {},
   "outputs": [],
   "source": [
    "def haversine(lat1, lon1, lat2, lon2):\n",
    "    R = 6371  # Radius of the Earth in kilometers\n",
    "\n",
    "    # Convert degrees to radians\n",
    "    lat1, lon1, lat2, lon2 = map(radians, [lat1, lon1, lat2, lon2])\n",
    "\n",
    "    # Calculate differences\n",
    "    dlat = lat2 - lat1\n",
    "    dlon = lon2 - lon1\n",
    "\n",
    "    # Haversine formula\n",
    "    a = sin(dlat / 2) ** 2 + cos(lat1) * cos(lat2) * sin(dlon / 2) ** 2\n",
    "    c = 2 * atan2(sqrt(a), sqrt(1 - a))\n",
    "\n",
    "    # Calculate distance\n",
    "    distance = R * c\n",
    "    return distance"
   ]
  },
  {
   "cell_type": "code",
   "execution_count": null,
   "id": "d45213b7",
   "metadata": {},
   "outputs": [],
   "source": [
    "municipios[\"Distance\"] = municipios.apply(lambda row: haversine(row[\"Latitud\"], row[\"Longitud\"], lat_origen, long_origen), axis=1)\n",
    "municipios"
   ]
  },
  {
   "cell_type": "code",
   "execution_count": null,
   "id": "76f98392",
   "metadata": {
    "scrolled": false
   },
   "outputs": [],
   "source": [
    "top_3 = municipios.sort_values(by='Distance').reset_index(drop=True)[:3]\n",
    "top_3"
   ]
  },
  {
   "cell_type": "code",
   "execution_count": null,
   "id": "ebf22f78",
   "metadata": {},
   "outputs": [],
   "source": [
    "one = top_3.iloc[0, top_3.columns.get_loc('Pueblo')]\n",
    "two = top_3.iloc[1, top_3.columns.get_loc('Pueblo')]\n",
    "three = top_3.iloc[2, top_3.columns.get_loc('Pueblo')]"
   ]
  },
  {
   "cell_type": "code",
   "execution_count": null,
   "id": "381ebcd7",
   "metadata": {
    "scrolled": false
   },
   "outputs": [],
   "source": [
    "print('Cool! I recommend you to visit these 3 villages selected as Pueblos Bonitos de España: ') \n",
    "print(one)\n",
    "print(two)\n",
    "print(three)"
   ]
  },
  {
   "cell_type": "code",
   "execution_count": null,
   "id": "7b3d93ad",
   "metadata": {},
   "outputs": [],
   "source": [
    "print('Now, let me give you some tips. Find below what to visit, where you can park to sleep and popular routes for trekking')"
   ]
  },
  {
   "cell_type": "code",
   "execution_count": null,
   "id": "c16c3320",
   "metadata": {},
   "outputs": [],
   "source": [
    "def generate_monuments_prompt(place):\n",
    "    chat_prompt = [\n",
    "        {\"role\": \"system\", \"content\": \"You are a helpful assistant.\"},\n",
    "        {\"role\": \"user\", \"content\": f\"List the top places to visit in {place} but\\\n",
    "        don't explain them and do not give me a introduction , just the answer with\\\n",
    "        the list. After that, let me know where I should park to sleep in a campervan.\\\n",
    "        Last, list me the 3 most common tracking routes and show me the amount of kilometers\\\n",
    "        and the difficulty level rated by easy, medium or high.\"}\n",
    "    ]\n",
    "\n",
    "    response = openai.ChatCompletion.create(\n",
    "        model=\"gpt-3.5-turbo\",\n",
    "        messages=chat_prompt\n",
    "    )\n",
    "\n",
    "    return response.choices[0].message.content.strip()"
   ]
  },
  {
   "cell_type": "code",
   "execution_count": null,
   "id": "37ca6bf1",
   "metadata": {},
   "outputs": [],
   "source": [
    "place = one "
   ]
  },
  {
   "cell_type": "code",
   "execution_count": null,
   "id": "cdf377c7",
   "metadata": {},
   "outputs": [],
   "source": [
    "response_text = generate_monuments_prompt(place)\n",
    "print(one)\n",
    "print(response_text)"
   ]
  },
  {
   "cell_type": "code",
   "execution_count": null,
   "id": "f8882281",
   "metadata": {},
   "outputs": [],
   "source": [
    "place = two"
   ]
  },
  {
   "cell_type": "code",
   "execution_count": null,
   "id": "f2e903d5",
   "metadata": {},
   "outputs": [],
   "source": [
    "response_text = generate_monuments_prompt(place)\n",
    "print(two)\n",
    "print(response_text)"
   ]
  },
  {
   "cell_type": "code",
   "execution_count": null,
   "id": "4b83ec80",
   "metadata": {},
   "outputs": [],
   "source": [
    "place = three"
   ]
  },
  {
   "cell_type": "code",
   "execution_count": null,
   "id": "fa68c43b",
   "metadata": {},
   "outputs": [],
   "source": [
    "response_text = generate_monuments_prompt(place)\n",
    "print(three)\n",
    "print(response_text)"
   ]
  },
  {
   "cell_type": "code",
   "execution_count": null,
   "id": "8ceb05b5",
   "metadata": {},
   "outputs": [],
   "source": [
    "print('Enjoy your trip!') "
   ]
  },
  {
   "cell_type": "code",
   "execution_count": null,
   "id": "1b117988",
   "metadata": {},
   "outputs": [],
   "source": []
  }
 ],
 "metadata": {
  "kernelspec": {
   "display_name": "project_new_env",
   "language": "python",
   "name": "project_new_env"
  },
  "language_info": {
   "codemirror_mode": {
    "name": "ipython",
    "version": 3
   },
   "file_extension": ".py",
   "mimetype": "text/x-python",
   "name": "python",
   "nbconvert_exporter": "python",
   "pygments_lexer": "ipython3",
   "version": "3.11.3"
  }
 },
 "nbformat": 4,
 "nbformat_minor": 5
}
