{
 "cells": [
  {
   "cell_type": "code",
   "execution_count": 1,
   "id": "39c0b395",
   "metadata": {},
   "outputs": [],
   "source": [
    "#Los 3 primeros imports son para llamar a la API de ChatGPT\n",
    "from dotenv import load_dotenv\n",
    "import os #provides ways to access the Operating System and allows us to read the environment variables\n",
    "import openai\n",
    "\n",
    "import requests #Este import es para llamar a la API del tiempo\n",
    "\n",
    "import pandas as pd #Este import es para cargar el CSV de latitud y longitud de todos los pueblos de españa\n",
    "\n",
    "from haversine import haversine, Unit #Estos import son para calcular las distancias de lat y long\n",
    "from math import radians, cos, sin, asin, sqrt"
   ]
  },
  {
   "cell_type": "code",
   "execution_count": 2,
   "id": "f61bfe81",
   "metadata": {},
   "outputs": [],
   "source": [
    "#Llamo a la API de chatGPT aunque ahora he decidido no empezar usandola\n",
    "\n",
    "load_dotenv()\n",
    "my_secret_key = os.getenv(\"my_openai_key\")"
   ]
  },
  {
   "cell_type": "code",
   "execution_count": 3,
   "id": "548561c4",
   "metadata": {},
   "outputs": [],
   "source": [
    "#Llamo a la contraseña que tengo guardada en .env\n",
    "\n",
    "openai.api_key = my_secret_key"
   ]
  },
  {
   "cell_type": "code",
   "execution_count": 4,
   "id": "f47314cb",
   "metadata": {},
   "outputs": [
    {
     "name": "stdout",
     "output_type": "stream",
     "text": [
      "Welcome to the APP that helps you to plan your road trip in Campervan starting from Madrid\n"
     ]
    }
   ],
   "source": [
    "#Le doy la bienvenida al usuario\n",
    "\n",
    "print(\"Welcome to the APP that helps you to plan your road trip in Campervan starting from Madrid\")"
   ]
  },
  {
   "cell_type": "code",
   "execution_count": 5,
   "id": "e3d6bb1a",
   "metadata": {},
   "outputs": [
    {
     "name": "stdout",
     "output_type": "stream",
     "text": [
      "Please enter how many days are you going to travel: 4\n"
     ]
    }
   ],
   "source": [
    "#Le pregunto al usuario cuantos días va a viajar ya que es la base de mi elección de itinerario\n",
    "\n",
    "days = float(input(\"Please enter how many days are you going to travel: \"))"
   ]
  },
  {
   "cell_type": "code",
   "execution_count": 6,
   "id": "528d89f6",
   "metadata": {},
   "outputs": [
    {
     "data": {
      "text/plain": [
       "300.0"
      ]
     },
     "execution_count": 6,
     "metadata": {},
     "output_type": "execute_result"
    }
   ],
   "source": [
    "#Calculo cuantos KM va a viajar en base a los días (resto 1 porque el último día no lo tengo en cuenta)\n",
    "\n",
    "number = (days - 1)*100\n",
    "number"
   ]
  },
  {
   "cell_type": "code",
   "execution_count": 7,
   "id": "bbea4b79",
   "metadata": {},
   "outputs": [],
   "source": [
    "#Creo un diccionario en base al radio de KM para usarlo como referencia para saber el tiempo\n",
    "\n",
    "dictionary = {\n",
    "    'N': ['Riaza', 'Aranda de Duero', 'Burgos', 'Santander', 'Santander'],\n",
    "    'NO': ['Segovia', 'Zamora', 'Ponferrada', 'Lugo', 'La Coruña'],\n",
    "    'O': ['Avila', 'Salamanca', 'Ciudad Rodrigo', 'Ciudad Rodrigo', 'Ciudad Rodrigo'],\n",
    "    'SO': ['Talavera de la Reina', 'Plasencia', 'Merida', 'Sevilla', 'Huelva'],\n",
    "    'S': ['Toledo', 'Ciudad Real', 'Jaen', 'Granada', 'Malaga'],\n",
    "    'SE': ['Tarancon', 'Albacete', 'Almansa', 'Murcia', 'Almeria'],\n",
    "    'E': ['Sacedon', 'Cuenca', 'Valencia', 'Javea', 'Alicante'],\n",
    "    'NE': ['Siguenza', 'Calatayud', 'Zaragoza', 'Huesca', 'Andorra']}"
   ]
  },
  {
   "cell_type": "code",
   "execution_count": 8,
   "id": "caafb834",
   "metadata": {},
   "outputs": [],
   "source": [
    "#Necesito restar los días -2 para que me de la posición correcta del diccionario ya que por ejemplo \n",
    "# en 3 días de viaje quiero hacer como máximo 200 kms, es decir la 2 posición que en python es 1\n",
    "\n",
    "d = int(days - 2)"
   ]
  },
  {
   "cell_type": "code",
   "execution_count": 9,
   "id": "c97345ac",
   "metadata": {},
   "outputs": [],
   "source": [
    "#Creo una función para que me genere automaticamente las ubicaciones en base a los días de viaje\n",
    "\n",
    "def get_places(dictionary, d):\n",
    "    values = {}\n",
    "    for key, value_list in dictionary.items():\n",
    "        if d < len(value_list):\n",
    "            values[key] = value_list[d]\n",
    "    return values"
   ]
  },
  {
   "cell_type": "code",
   "execution_count": 10,
   "id": "7be15c98",
   "metadata": {},
   "outputs": [
    {
     "data": {
      "text/plain": [
       "{'N': 'Burgos',\n",
       " 'NO': 'Ponferrada',\n",
       " 'O': 'Ciudad Rodrigo',\n",
       " 'SO': 'Merida',\n",
       " 'S': 'Jaen',\n",
       " 'SE': 'Almansa',\n",
       " 'E': 'Valencia',\n",
       " 'NE': 'Zaragoza'}"
      ]
     },
     "execution_count": 10,
     "metadata": {},
     "output_type": "execute_result"
    }
   ],
   "source": [
    "#Reviso que me devuelva el resultado correcto https://www.weatherapi.com/docs/\n",
    "\n",
    "result = get_places(dictionary, d)\n",
    "result"
   ]
  },
  {
   "cell_type": "code",
   "execution_count": 11,
   "id": "79d99db8",
   "metadata": {},
   "outputs": [],
   "source": [
    "#Creo todas las variables para llamar a la API del tiempo menos \"q\" que representa el lugar \n",
    "#de dónde quiero ver la previsión del tiempo\n",
    "\n",
    "url = 'http://api.weatherapi.com/v1'\n",
    "forecast = '/forecast.json?'\n",
    "key = 'key=1d638152f69742a6b19113935230107'\n",
    "wdays = '&days=1'\n",
    "final = '&aqi=no&alerts=no'"
   ]
  },
  {
   "cell_type": "code",
   "execution_count": 12,
   "id": "f3161a15",
   "metadata": {},
   "outputs": [],
   "source": [
    "#Ahora creo una variable \"q\" para cada punto cardinal\n",
    "\n",
    "q_var = '&q='\n",
    "norte = q_var + result['N']\n",
    "noroeste = q_var + result['NO']\n",
    "oeste = q_var + result['O']\n",
    "suroeste = q_var + result['SO']\n",
    "sur = q_var + result['S']\n",
    "sureste = q_var + result['SE']\n",
    "este = q_var + result['E']\n",
    "noreste = q_var + result['NE']"
   ]
  },
  {
   "cell_type": "code",
   "execution_count": 13,
   "id": "29dc79cf",
   "metadata": {},
   "outputs": [],
   "source": [
    "#Creo una llamada a la API para cada lugar\n",
    "\n",
    "check_rain_north = requests.get(url + forecast + key + norte + wdays + final)\n",
    "check_rain_nortwest = requests.get(url + forecast + key + noroeste + wdays + final)\n",
    "check_rain_west = requests.get(url + forecast + key + oeste + wdays + final)\n",
    "check_rain_southwest = requests.get(url + forecast + key + suroeste + wdays + final)\n",
    "check_rain_south = requests.get(url + forecast + key + sur + wdays + final)\n",
    "check_rain_southeast = requests.get(url + forecast + key + sureste + wdays + final)\n",
    "check_rain_east = requests.get(url + forecast + key + este + wdays + final)\n",
    "check_rain_northeast = requests.get(url + forecast + key + noreste + wdays + final)"
   ]
  },
  {
   "cell_type": "code",
   "execution_count": 14,
   "id": "ba59e545",
   "metadata": {},
   "outputs": [],
   "source": [
    "check_rain_north_result = check_rain_north.json()\n",
    "check_rain_nortwest_result = check_rain_nortwest.json()\n",
    "check_rain_west_result = check_rain_west.json()\n",
    "check_rain_southwest_result = check_rain_southwest.json() \n",
    "check_rain_south_result = check_rain_south.json() \n",
    "check_rain_southeast_result = check_rain_southeast.json()\n",
    "check_rain_east_result = check_rain_east.json()\n",
    "check_rain_northeast_result = check_rain_northeast.json()"
   ]
  },
  {
   "cell_type": "code",
   "execution_count": 15,
   "id": "09760dec",
   "metadata": {
    "scrolled": true
   },
   "outputs": [
    {
     "name": "stdout",
     "output_type": "stream",
     "text": [
      "Awesome! I suggest to travel to the following directions as the others could rain tomorrow\n",
      "North\n",
      "Northwest\n",
      "West\n",
      "Southwest\n",
      "South\n",
      "Southeast\n"
     ]
    }
   ],
   "source": [
    "print(\"Awesome! I suggest to travel to the following directions as the others could rain tomorrow\")\n",
    "\n",
    "#North\n",
    "if check_rain_north_result['forecast'][\"forecastday\"][0]['day']['daily_chance_of_rain'] == 0:\n",
    "    print('North')\n",
    "    \n",
    "#Northwest\n",
    "if check_rain_nortwest_result['forecast'][\"forecastday\"][0]['day']['daily_chance_of_rain'] == 0:\n",
    "    print('Northwest')\n",
    "\n",
    "#West\n",
    "if check_rain_west_result['forecast'][\"forecastday\"][0]['day']['daily_chance_of_rain'] == 0:\n",
    "    print('West')\n",
    "    \n",
    "#Southwest\n",
    "if check_rain_southwest_result['forecast'][\"forecastday\"][0]['day']['daily_chance_of_rain'] == 0:\n",
    "    print('Southwest')\n",
    "    \n",
    "#South\n",
    "if check_rain_south_result['forecast'][\"forecastday\"][0]['day']['daily_chance_of_rain'] == 0:\n",
    "    print('South')\n",
    "\n",
    "#Southeast\n",
    "if check_rain_southeast_result['forecast'][\"forecastday\"][0]['day']['daily_chance_of_rain'] == 0:\n",
    "    print('Southeast')\n",
    "\n",
    "#East\n",
    "if check_rain_east_result['forecast'][\"forecastday\"][0]['day']['daily_chance_of_rain'] == 0:\n",
    "    print('East')\n",
    "    \n",
    "#Northeast\n",
    "if check_rain_northeast_result['forecast'][\"forecastday\"][0]['day']['daily_chance_of_rain'] == 0:\n",
    "    print('Northeast')"
   ]
  },
  {
   "cell_type": "code",
   "execution_count": 19,
   "id": "8fef390a",
   "metadata": {},
   "outputs": [
    {
     "data": {
      "text/html": [
       "<div>\n",
       "<style scoped>\n",
       "    .dataframe tbody tr th:only-of-type {\n",
       "        vertical-align: middle;\n",
       "    }\n",
       "\n",
       "    .dataframe tbody tr th {\n",
       "        vertical-align: top;\n",
       "    }\n",
       "\n",
       "    .dataframe thead th {\n",
       "        text-align: right;\n",
       "    }\n",
       "</style>\n",
       "<table border=\"1\" class=\"dataframe\">\n",
       "  <thead>\n",
       "    <tr style=\"text-align: right;\">\n",
       "      <th></th>\n",
       "      <th>Pueblo</th>\n",
       "      <th>Provincia</th>\n",
       "      <th>Longitud</th>\n",
       "      <th>Latitud</th>\n",
       "      <th>Datos de Interés</th>\n",
       "    </tr>\n",
       "  </thead>\n",
       "  <tbody>\n",
       "    <tr>\n",
       "      <th>0</th>\n",
       "      <td>Alcalá del Júcar</td>\n",
       "      <td>Albacete</td>\n",
       "      <td>-1.429327</td>\n",
       "      <td>39.193202</td>\n",
       "      <td>D.O. Pueblo Bonito</td>\n",
       "    </tr>\n",
       "    <tr>\n",
       "      <th>1</th>\n",
       "      <td>Almagro</td>\n",
       "      <td>Ciudad Real</td>\n",
       "      <td>-3.711559</td>\n",
       "      <td>38.889841</td>\n",
       "      <td>D.O. Pueblo Bonito</td>\n",
       "    </tr>\n",
       "    <tr>\n",
       "      <th>2</th>\n",
       "      <td>Almonaster la Real</td>\n",
       "      <td>Huelva</td>\n",
       "      <td>-6.787200</td>\n",
       "      <td>37.872631</td>\n",
       "      <td>D.O. Pueblo Bonito</td>\n",
       "    </tr>\n",
       "    <tr>\n",
       "      <th>3</th>\n",
       "      <td>Anento</td>\n",
       "      <td>Zaragoza</td>\n",
       "      <td>-1.333285</td>\n",
       "      <td>41.069730</td>\n",
       "      <td>D.O. Pueblo Bonito</td>\n",
       "    </tr>\n",
       "    <tr>\n",
       "      <th>4</th>\n",
       "      <td>Ansó</td>\n",
       "      <td>Huesca</td>\n",
       "      <td>-0.828883</td>\n",
       "      <td>42.754663</td>\n",
       "      <td>D.O. Pueblo Bonito</td>\n",
       "    </tr>\n",
       "    <tr>\n",
       "      <th>5</th>\n",
       "      <td>Atienza</td>\n",
       "      <td>Guadalajara</td>\n",
       "      <td>-2.871087</td>\n",
       "      <td>41.200040</td>\n",
       "      <td>D.O. Pueblo Bonito</td>\n",
       "    </tr>\n",
       "    <tr>\n",
       "      <th>6</th>\n",
       "      <td>Ayllón</td>\n",
       "      <td>Segovia</td>\n",
       "      <td>-3.376887</td>\n",
       "      <td>41.420808</td>\n",
       "      <td>D.O. Pueblo Bonito</td>\n",
       "    </tr>\n",
       "    <tr>\n",
       "      <th>7</th>\n",
       "      <td>Baños de la Encina</td>\n",
       "      <td>Jaén</td>\n",
       "      <td>-3.774262</td>\n",
       "      <td>38.171199</td>\n",
       "      <td>D.O. Pueblo Bonito</td>\n",
       "    </tr>\n",
       "  </tbody>\n",
       "</table>\n",
       "</div>"
      ],
      "text/plain": [
       "               Pueblo    Provincia  Longitud    Latitud    Datos de Interés\n",
       "0    Alcalá del Júcar     Albacete -1.429327  39.193202  D.O. Pueblo Bonito\n",
       "1             Almagro  Ciudad Real -3.711559  38.889841  D.O. Pueblo Bonito\n",
       "2  Almonaster la Real       Huelva -6.787200  37.872631  D.O. Pueblo Bonito\n",
       "3              Anento     Zaragoza -1.333285  41.069730  D.O. Pueblo Bonito\n",
       "4                Ansó       Huesca -0.828883  42.754663  D.O. Pueblo Bonito\n",
       "5             Atienza  Guadalajara -2.871087  41.200040  D.O. Pueblo Bonito\n",
       "6              Ayllón      Segovia -3.376887  41.420808  D.O. Pueblo Bonito\n",
       "7  Baños de la Encina         Jaén -3.774262  38.171199  D.O. Pueblo Bonito"
      ]
     },
     "execution_count": 19,
     "metadata": {},
     "output_type": "execute_result"
    }
   ],
   "source": [
    "#Cargo el dataset de municipios para tener las coordenadas\n",
    "\n",
    "municipios = pd.read_csv('./data/pueblos_bonitos_punto.csv')\n",
    "municipios[:8]"
   ]
  },
  {
   "cell_type": "code",
   "execution_count": 20,
   "id": "59d03384",
   "metadata": {},
   "outputs": [
    {
     "data": {
      "text/html": [
       "<div>\n",
       "<style scoped>\n",
       "    .dataframe tbody tr th:only-of-type {\n",
       "        vertical-align: middle;\n",
       "    }\n",
       "\n",
       "    .dataframe tbody tr th {\n",
       "        vertical-align: top;\n",
       "    }\n",
       "\n",
       "    .dataframe thead th {\n",
       "        text-align: right;\n",
       "    }\n",
       "</style>\n",
       "<table border=\"1\" class=\"dataframe\">\n",
       "  <thead>\n",
       "    <tr style=\"text-align: right;\">\n",
       "      <th></th>\n",
       "      <th>Pueblo</th>\n",
       "      <th>Provincia</th>\n",
       "      <th>Longitud</th>\n",
       "      <th>Latitud</th>\n",
       "    </tr>\n",
       "  </thead>\n",
       "  <tbody>\n",
       "    <tr>\n",
       "      <th>0</th>\n",
       "      <td>Albacete</td>\n",
       "      <td>Albacete</td>\n",
       "      <td>-1.855747</td>\n",
       "      <td>38.995881</td>\n",
       "    </tr>\n",
       "    <tr>\n",
       "      <th>1</th>\n",
       "      <td>Almansa</td>\n",
       "      <td>Albacete</td>\n",
       "      <td>-1.094147</td>\n",
       "      <td>38.869688</td>\n",
       "    </tr>\n",
       "    <tr>\n",
       "      <th>2</th>\n",
       "      <td>Andorra</td>\n",
       "      <td>Teruel</td>\n",
       "      <td>-0.443719</td>\n",
       "      <td>40.975094</td>\n",
       "    </tr>\n",
       "    <tr>\n",
       "      <th>3</th>\n",
       "      <td>Aranda de Duero</td>\n",
       "      <td>Burgos</td>\n",
       "      <td>-3.689243</td>\n",
       "      <td>41.671551</td>\n",
       "    </tr>\n",
       "    <tr>\n",
       "      <th>4</th>\n",
       "      <td>Burgos</td>\n",
       "      <td>Burgos</td>\n",
       "      <td>-3.704198</td>\n",
       "      <td>42.341130</td>\n",
       "    </tr>\n",
       "    <tr>\n",
       "      <th>5</th>\n",
       "      <td>Calatayud</td>\n",
       "      <td>Zaragoza</td>\n",
       "      <td>-1.644726</td>\n",
       "      <td>41.354319</td>\n",
       "    </tr>\n",
       "    <tr>\n",
       "      <th>6</th>\n",
       "      <td>Ciudad Real</td>\n",
       "      <td>Ciudad Real</td>\n",
       "      <td>-3.931320</td>\n",
       "      <td>38.986518</td>\n",
       "    </tr>\n",
       "    <tr>\n",
       "      <th>7</th>\n",
       "      <td>Ciudad Rodrigo</td>\n",
       "      <td>Salamanca</td>\n",
       "      <td>-6.534158</td>\n",
       "      <td>40.597309</td>\n",
       "    </tr>\n",
       "    <tr>\n",
       "      <th>8</th>\n",
       "      <td>Cuenca</td>\n",
       "      <td>Cuenca</td>\n",
       "      <td>-2.131523</td>\n",
       "      <td>40.076538</td>\n",
       "    </tr>\n",
       "    <tr>\n",
       "      <th>9</th>\n",
       "      <td>Granada</td>\n",
       "      <td>Granada</td>\n",
       "      <td>-3.600019</td>\n",
       "      <td>37.176419</td>\n",
       "    </tr>\n",
       "    <tr>\n",
       "      <th>10</th>\n",
       "      <td>Huelva</td>\n",
       "      <td>Huelva</td>\n",
       "      <td>-6.950406</td>\n",
       "      <td>37.260041</td>\n",
       "    </tr>\n",
       "    <tr>\n",
       "      <th>11</th>\n",
       "      <td>Huesca</td>\n",
       "      <td>Huesca</td>\n",
       "      <td>-0.408423</td>\n",
       "      <td>42.140627</td>\n",
       "    </tr>\n",
       "    <tr>\n",
       "      <th>12</th>\n",
       "      <td>Lugo</td>\n",
       "      <td>Lugo</td>\n",
       "      <td>-7.555755</td>\n",
       "      <td>43.009890</td>\n",
       "    </tr>\n",
       "    <tr>\n",
       "      <th>13</th>\n",
       "      <td>Murcia</td>\n",
       "      <td>Murcia</td>\n",
       "      <td>-1.128541</td>\n",
       "      <td>37.984364</td>\n",
       "    </tr>\n",
       "    <tr>\n",
       "      <th>14</th>\n",
       "      <td>Plasencia</td>\n",
       "      <td>Cáceres</td>\n",
       "      <td>-6.092682</td>\n",
       "      <td>40.029405</td>\n",
       "    </tr>\n",
       "    <tr>\n",
       "      <th>15</th>\n",
       "      <td>Ponferrada</td>\n",
       "      <td>León</td>\n",
       "      <td>-6.597295</td>\n",
       "      <td>42.547683</td>\n",
       "    </tr>\n",
       "    <tr>\n",
       "      <th>16</th>\n",
       "      <td>Riaza</td>\n",
       "      <td>Segovia</td>\n",
       "      <td>-3.477252</td>\n",
       "      <td>41.279740</td>\n",
       "    </tr>\n",
       "    <tr>\n",
       "      <th>17</th>\n",
       "      <td>Salamanca</td>\n",
       "      <td>Salamanca</td>\n",
       "      <td>-5.665381</td>\n",
       "      <td>40.967368</td>\n",
       "    </tr>\n",
       "    <tr>\n",
       "      <th>18</th>\n",
       "      <td>Santander</td>\n",
       "      <td>Cantabria</td>\n",
       "      <td>-3.809722</td>\n",
       "      <td>43.462167</td>\n",
       "    </tr>\n",
       "    <tr>\n",
       "      <th>19</th>\n",
       "      <td>Segovia</td>\n",
       "      <td>Segovia</td>\n",
       "      <td>-4.125241</td>\n",
       "      <td>40.949870</td>\n",
       "    </tr>\n",
       "    <tr>\n",
       "      <th>20</th>\n",
       "      <td>Sevilla</td>\n",
       "      <td>Sevilla</td>\n",
       "      <td>-5.992514</td>\n",
       "      <td>37.386205</td>\n",
       "    </tr>\n",
       "    <tr>\n",
       "      <th>21</th>\n",
       "      <td>Talavera de la Reina</td>\n",
       "      <td>Toledo</td>\n",
       "      <td>-4.833702</td>\n",
       "      <td>39.960167</td>\n",
       "    </tr>\n",
       "    <tr>\n",
       "      <th>22</th>\n",
       "      <td>Toledo</td>\n",
       "      <td>Toledo</td>\n",
       "      <td>-4.024975</td>\n",
       "      <td>39.856522</td>\n",
       "    </tr>\n",
       "    <tr>\n",
       "      <th>23</th>\n",
       "      <td>Zamora</td>\n",
       "      <td>Zamora</td>\n",
       "      <td>-5.754948</td>\n",
       "      <td>41.499140</td>\n",
       "    </tr>\n",
       "    <tr>\n",
       "      <th>24</th>\n",
       "      <td>Zaragoza</td>\n",
       "      <td>Zaragoza</td>\n",
       "      <td>-0.879287</td>\n",
       "      <td>41.656457</td>\n",
       "    </tr>\n",
       "  </tbody>\n",
       "</table>\n",
       "</div>"
      ],
      "text/plain": [
       "                  Pueblo    Provincia  Longitud    Latitud\n",
       "0               Albacete     Albacete -1.855747  38.995881\n",
       "1                Almansa     Albacete -1.094147  38.869688\n",
       "2                Andorra       Teruel -0.443719  40.975094\n",
       "3        Aranda de Duero       Burgos -3.689243  41.671551\n",
       "4                 Burgos       Burgos -3.704198  42.341130\n",
       "5              Calatayud     Zaragoza -1.644726  41.354319\n",
       "6            Ciudad Real  Ciudad Real -3.931320  38.986518\n",
       "7         Ciudad Rodrigo    Salamanca -6.534158  40.597309\n",
       "8                 Cuenca       Cuenca -2.131523  40.076538\n",
       "9                Granada      Granada -3.600019  37.176419\n",
       "10                Huelva       Huelva -6.950406  37.260041\n",
       "11                Huesca       Huesca -0.408423  42.140627\n",
       "12                  Lugo         Lugo -7.555755  43.009890\n",
       "13                Murcia       Murcia -1.128541  37.984364\n",
       "14             Plasencia      Cáceres -6.092682  40.029405\n",
       "15            Ponferrada         León -6.597295  42.547683\n",
       "16                 Riaza      Segovia -3.477252  41.279740\n",
       "17             Salamanca    Salamanca -5.665381  40.967368\n",
       "18             Santander    Cantabria -3.809722  43.462167\n",
       "19               Segovia      Segovia -4.125241  40.949870\n",
       "20               Sevilla      Sevilla -5.992514  37.386205\n",
       "21  Talavera de la Reina       Toledo -4.833702  39.960167\n",
       "22                Toledo       Toledo -4.024975  39.856522\n",
       "23                Zamora       Zamora -5.754948  41.499140\n",
       "24              Zaragoza     Zaragoza -0.879287  41.656457"
      ]
     },
     "execution_count": 20,
     "metadata": {},
     "output_type": "execute_result"
    }
   ],
   "source": [
    "#Cargo el dataset de las coordenadas de mis puntos cardinales para calcular las distancias\n",
    "\n",
    "p_cardinales = pd.read_csv('./data/puntos_cardinales_punto.csv')\n",
    "p_cardinales"
   ]
  },
  {
   "cell_type": "code",
   "execution_count": 21,
   "id": "966ddb37",
   "metadata": {
    "scrolled": true
   },
   "outputs": [
    {
     "name": "stdout",
     "output_type": "stream",
     "text": [
      "Choose one of these directions:\n",
      " north,\n",
      " northwest,\n",
      " west,\n",
      " southwest,\n",
      " south,\n",
      " southeast,\n",
      " east,\n",
      " northeast north\n"
     ]
    }
   ],
   "source": [
    "#Ahora le pido al usuario que elija el punto cardinal\n",
    "\n",
    "direction = input('Choose one of these directions:\\n north,\\n northwest,\\n west,\\n southwest,\\n south,\\n southeast,\\n east,\\n northeast ')"
   ]
  },
  {
   "cell_type": "code",
   "execution_count": 22,
   "id": "1da8d4e8",
   "metadata": {},
   "outputs": [],
   "source": [
    "#Ahora hago match entre la dirección que ha elegido el usuario y las opciones que tengo\n",
    "\n",
    "def user_direction(direction, result):\n",
    "    if direction == 'north':\n",
    "        return result['N']\n",
    "    elif direction == 'northwest':\n",
    "        return result['NO']\n",
    "    elif direction == 'west':\n",
    "        return result['O']\n",
    "    elif direction == 'southwest':\n",
    "        return result['SO']\n",
    "    elif direction == 'south':\n",
    "        return result['S']\n",
    "    elif direction == 'southeast':\n",
    "        return result['SE']\n",
    "    elif direction == 'east':\n",
    "        return result['E']\n",
    "    elif direction == 'northeast':\n",
    "        return result['NE']\n",
    "    else:\n",
    "        return 'I am not able to find the direction'"
   ]
  },
  {
   "cell_type": "code",
   "execution_count": 23,
   "id": "e5e87d3b",
   "metadata": {},
   "outputs": [],
   "source": [
    "#Guardo el resultado en un diccionario\n",
    "\n",
    "result = {'N': result['N'], 'NO': result['NO'], 'O': result['O'], 'NE': result['NE'],\n",
    "          'S': result['S'], 'SO': result['SO'], 'SE': result['SE'], 'E': result['E']}"
   ]
  },
  {
   "cell_type": "code",
   "execution_count": 24,
   "id": "250f0085",
   "metadata": {},
   "outputs": [
    {
     "data": {
      "text/plain": [
       "'Burgos'"
      ]
     },
     "execution_count": 24,
     "metadata": {},
     "output_type": "execute_result"
    }
   ],
   "source": [
    "output = user_direction(direction, result)\n",
    "output"
   ]
  },
  {
   "cell_type": "code",
   "execution_count": 25,
   "id": "f3d5e94b",
   "metadata": {
    "scrolled": true
   },
   "outputs": [
    {
     "data": {
      "text/html": [
       "<div>\n",
       "<style scoped>\n",
       "    .dataframe tbody tr th:only-of-type {\n",
       "        vertical-align: middle;\n",
       "    }\n",
       "\n",
       "    .dataframe tbody tr th {\n",
       "        vertical-align: top;\n",
       "    }\n",
       "\n",
       "    .dataframe thead th {\n",
       "        text-align: right;\n",
       "    }\n",
       "</style>\n",
       "<table border=\"1\" class=\"dataframe\">\n",
       "  <thead>\n",
       "    <tr style=\"text-align: right;\">\n",
       "      <th></th>\n",
       "      <th>Pueblo</th>\n",
       "      <th>Provincia</th>\n",
       "      <th>Longitud</th>\n",
       "      <th>Latitud</th>\n",
       "    </tr>\n",
       "  </thead>\n",
       "  <tbody>\n",
       "    <tr>\n",
       "      <th>4</th>\n",
       "      <td>Burgos</td>\n",
       "      <td>Burgos</td>\n",
       "      <td>-3.704198</td>\n",
       "      <td>42.34113</td>\n",
       "    </tr>\n",
       "  </tbody>\n",
       "</table>\n",
       "</div>"
      ],
      "text/plain": [
       "   Pueblo Provincia  Longitud   Latitud\n",
       "4  Burgos    Burgos -3.704198  42.34113"
      ]
     },
     "execution_count": 25,
     "metadata": {},
     "output_type": "execute_result"
    }
   ],
   "source": [
    "#Guardo en las variables de latitud y longitud desde dónde quiero crear el radio de los pueblos que recomendar\n",
    "\n",
    "row = p_cardinales[p_cardinales['Pueblo'] == output]\n",
    "row"
   ]
  },
  {
   "cell_type": "code",
   "execution_count": 26,
   "id": "dccfeb38",
   "metadata": {},
   "outputs": [],
   "source": [
    "lat_origen = row['Latitud']\n",
    "long_origen = row['Longitud']"
   ]
  },
  {
   "cell_type": "code",
   "execution_count": 31,
   "id": "440d4f21",
   "metadata": {},
   "outputs": [],
   "source": [
    "lat_destino = municipios['Latitud']\n",
    "long_destino = municipios['Longitud']"
   ]
  },
  {
   "cell_type": "code",
   "execution_count": 33,
   "id": "05ba98d3",
   "metadata": {},
   "outputs": [],
   "source": [
    "point1 = (lat_origen, long_origen)\n",
    "point2 = (lat_destino, long_destion)"
   ]
  },
  {
   "cell_type": "code",
   "execution_count": 34,
   "id": "d8ef5175",
   "metadata": {},
   "outputs": [
    {
     "ename": "ValueError",
     "evalue": "The truth value of a Series is ambiguous. Use a.empty, a.bool(), a.item(), a.any() or a.all().",
     "output_type": "error",
     "traceback": [
      "\u001b[1;31m---------------------------------------------------------------------------\u001b[0m",
      "\u001b[1;31mValueError\u001b[0m                                Traceback (most recent call last)",
      "File \u001b[1;32m<timed exec>:1\u001b[0m\n",
      "File \u001b[1;32m~\\miniconda3\\envs\\project_new_env\\Lib\\site-packages\\haversine\\haversine.py:218\u001b[0m, in \u001b[0;36mhaversine\u001b[1;34m(point1, point2, unit, normalize, check)\u001b[0m\n\u001b[0;32m    216\u001b[0m     lat2, lng2 \u001b[38;5;241m=\u001b[39m _normalize(lat2, lng2)\n\u001b[0;32m    217\u001b[0m \u001b[38;5;28;01melif\u001b[39;00m check:\n\u001b[1;32m--> 218\u001b[0m     _ensure_lat_lon(lat1, lng1)\n\u001b[0;32m    219\u001b[0m     _ensure_lat_lon(lat2, lng2)\n\u001b[0;32m    221\u001b[0m \u001b[38;5;28;01mreturn\u001b[39;00m get_avg_earth_radius(unit) \u001b[38;5;241m*\u001b[39m _haversine_kernel(lat1, lng1, lat2, lng2)\n",
      "File \u001b[1;32m~\\miniconda3\\envs\\project_new_env\\Lib\\site-packages\\haversine\\haversine.py:92\u001b[0m, in \u001b[0;36m_ensure_lat_lon\u001b[1;34m(lat, lon)\u001b[0m\n\u001b[0;32m     88\u001b[0m \u001b[38;5;28;01mdef\u001b[39;00m \u001b[38;5;21m_ensure_lat_lon\u001b[39m(lat: \u001b[38;5;28mfloat\u001b[39m, lon: \u001b[38;5;28mfloat\u001b[39m):\n\u001b[0;32m     89\u001b[0m     \u001b[38;5;124;03m\"\"\"\u001b[39;00m\n\u001b[0;32m     90\u001b[0m \u001b[38;5;124;03m    Ensure that the given latitude and longitude have proper values. An exception is raised if they are not.\u001b[39;00m\n\u001b[0;32m     91\u001b[0m \u001b[38;5;124;03m    \"\"\"\u001b[39;00m\n\u001b[1;32m---> 92\u001b[0m     \u001b[38;5;28;01mif\u001b[39;00m lat \u001b[38;5;241m<\u001b[39m \u001b[38;5;241m-\u001b[39m\u001b[38;5;241m90\u001b[39m \u001b[38;5;129;01mor\u001b[39;00m lat \u001b[38;5;241m>\u001b[39m \u001b[38;5;241m90\u001b[39m:\n\u001b[0;32m     93\u001b[0m         \u001b[38;5;28;01mraise\u001b[39;00m \u001b[38;5;167;01mValueError\u001b[39;00m(\u001b[38;5;124mf\u001b[39m\u001b[38;5;124m\"\u001b[39m\u001b[38;5;124mLatitude \u001b[39m\u001b[38;5;132;01m{\u001b[39;00mlat\u001b[38;5;132;01m}\u001b[39;00m\u001b[38;5;124m is out of range [-90, 90]\u001b[39m\u001b[38;5;124m\"\u001b[39m)\n\u001b[0;32m     94\u001b[0m     \u001b[38;5;28;01mif\u001b[39;00m lon \u001b[38;5;241m<\u001b[39m \u001b[38;5;241m-\u001b[39m\u001b[38;5;241m180\u001b[39m \u001b[38;5;129;01mor\u001b[39;00m lon \u001b[38;5;241m>\u001b[39m \u001b[38;5;241m180\u001b[39m:\n",
      "File \u001b[1;32m~\\miniconda3\\envs\\project_new_env\\Lib\\site-packages\\pandas\\core\\generic.py:1466\u001b[0m, in \u001b[0;36mNDFrame.__nonzero__\u001b[1;34m(self)\u001b[0m\n\u001b[0;32m   1464\u001b[0m \u001b[38;5;129m@final\u001b[39m\n\u001b[0;32m   1465\u001b[0m \u001b[38;5;28;01mdef\u001b[39;00m \u001b[38;5;21m__nonzero__\u001b[39m(\u001b[38;5;28mself\u001b[39m) \u001b[38;5;241m-\u001b[39m\u001b[38;5;241m>\u001b[39m NoReturn:\n\u001b[1;32m-> 1466\u001b[0m     \u001b[38;5;28;01mraise\u001b[39;00m \u001b[38;5;167;01mValueError\u001b[39;00m(\n\u001b[0;32m   1467\u001b[0m         \u001b[38;5;124mf\u001b[39m\u001b[38;5;124m\"\u001b[39m\u001b[38;5;124mThe truth value of a \u001b[39m\u001b[38;5;132;01m{\u001b[39;00m\u001b[38;5;28mtype\u001b[39m(\u001b[38;5;28mself\u001b[39m)\u001b[38;5;241m.\u001b[39m\u001b[38;5;18m__name__\u001b[39m\u001b[38;5;132;01m}\u001b[39;00m\u001b[38;5;124m is ambiguous. \u001b[39m\u001b[38;5;124m\"\u001b[39m\n\u001b[0;32m   1468\u001b[0m         \u001b[38;5;124m\"\u001b[39m\u001b[38;5;124mUse a.empty, a.bool(), a.item(), a.any() or a.all().\u001b[39m\u001b[38;5;124m\"\u001b[39m\n\u001b[0;32m   1469\u001b[0m     )\n",
      "\u001b[1;31mValueError\u001b[0m: The truth value of a Series is ambiguous. Use a.empty, a.bool(), a.item(), a.any() or a.all()."
     ]
    }
   ],
   "source": [
    "%%time\n",
    "\n",
    "distance = haversine(point1, point2, unit=Unit.METERS)"
   ]
  },
  {
   "cell_type": "code",
   "execution_count": null,
   "id": "44bfbd8a",
   "metadata": {},
   "outputs": [],
   "source": []
  },
  {
   "cell_type": "code",
   "execution_count": null,
   "id": "825b61e6",
   "metadata": {},
   "outputs": [],
   "source": []
  },
  {
   "cell_type": "code",
   "execution_count": null,
   "id": "1e59b478",
   "metadata": {},
   "outputs": [],
   "source": [
    "# Define the coordinates of the two points\n",
    "point1 = (lat1, lon1)  # (latitude, longitude) of point 1\n",
    "point2 = (lat2, lon2)  # (latitude, longitude) of point 2\n",
    "\n",
    "# Calculate the distance between the two points\n",
    "distance = haversine(point1, point2, unit=Unit.METERS)\n",
    "\n",
    "# Print the distance\n",
    "print(f\"The distance between the points is: {distance:.2f} meters\")"
   ]
  },
  {
   "cell_type": "code",
   "execution_count": null,
   "id": "983f2ce1",
   "metadata": {},
   "outputs": [],
   "source": []
  },
  {
   "cell_type": "code",
   "execution_count": null,
   "id": "94226693",
   "metadata": {},
   "outputs": [],
   "source": []
  },
  {
   "cell_type": "code",
   "execution_count": null,
   "id": "c6547b4f",
   "metadata": {},
   "outputs": [],
   "source": [
    "input('Cool!/n In that case, these are the places I recommend')"
   ]
  },
  {
   "cell_type": "code",
   "execution_count": null,
   "id": "77b0574e",
   "metadata": {},
   "outputs": [],
   "source": [
    "prompt = f\"From Madrid, recommend the top 3 places to visit within {kilometers} kilometers based on popular opinions.\""
   ]
  },
  {
   "cell_type": "code",
   "execution_count": null,
   "id": "f6f0a4e9",
   "metadata": {},
   "outputs": [],
   "source": [
    "variables = []\n",
    "\n",
    "for i in result.keys():\n",
    "    print('&q=' + result[i])"
   ]
  },
  {
   "cell_type": "code",
   "execution_count": null,
   "id": "6484ca22",
   "metadata": {},
   "outputs": [],
   "source": [
    "q_ = result[input(\"Select N, NO...\")] "
   ]
  },
  {
   "cell_type": "code",
   "execution_count": null,
   "id": "d92ec706",
   "metadata": {},
   "outputs": [],
   "source": [
    "q_"
   ]
  },
  {
   "cell_type": "code",
   "execution_count": null,
   "id": "21469919",
   "metadata": {},
   "outputs": [],
   "source": []
  },
  {
   "cell_type": "code",
   "execution_count": null,
   "id": "71556df6",
   "metadata": {},
   "outputs": [],
   "source": []
  },
  {
   "cell_type": "code",
   "execution_count": null,
   "id": "b1a45da0",
   "metadata": {},
   "outputs": [],
   "source": []
  },
  {
   "cell_type": "code",
   "execution_count": null,
   "id": "0643613c",
   "metadata": {},
   "outputs": [],
   "source": []
  },
  {
   "cell_type": "code",
   "execution_count": null,
   "id": "51d6a54e",
   "metadata": {},
   "outputs": [],
   "source": []
  },
  {
   "cell_type": "code",
   "execution_count": null,
   "id": "8719e826",
   "metadata": {},
   "outputs": [],
   "source": [
    "example = response.json()\n",
    "example"
   ]
  },
  {
   "cell_type": "code",
   "execution_count": null,
   "id": "82edfe29",
   "metadata": {},
   "outputs": [],
   "source": [
    "example.keys()"
   ]
  },
  {
   "cell_type": "code",
   "execution_count": null,
   "id": "2b27d6e5",
   "metadata": {},
   "outputs": [],
   "source": [
    "example['forecast'].keys()"
   ]
  },
  {
   "cell_type": "code",
   "execution_count": null,
   "id": "86c65294",
   "metadata": {},
   "outputs": [],
   "source": [
    "example['forecast'][\"forecastday\"][0]['day']"
   ]
  },
  {
   "cell_type": "code",
   "execution_count": null,
   "id": "aed44103",
   "metadata": {},
   "outputs": [],
   "source": [
    "example['forecast'][\"forecastday\"][0]['day']['daily_chance_of_rain']"
   ]
  },
  {
   "cell_type": "code",
   "execution_count": null,
   "id": "4f68e62f",
   "metadata": {},
   "outputs": [],
   "source": []
  },
  {
   "cell_type": "code",
   "execution_count": null,
   "id": "ca8f8693",
   "metadata": {},
   "outputs": [],
   "source": []
  },
  {
   "cell_type": "code",
   "execution_count": null,
   "id": "72e8db71",
   "metadata": {},
   "outputs": [],
   "source": []
  },
  {
   "cell_type": "code",
   "execution_count": null,
   "id": "5d1fc90f",
   "metadata": {},
   "outputs": [],
   "source": [
    "kilometers = float(input(\"Enter the number of kilometers: \"))"
   ]
  },
  {
   "cell_type": "code",
   "execution_count": null,
   "id": "0941294d",
   "metadata": {},
   "outputs": [],
   "source": [
    "prompt = f\"From Madrid, recommend the top 3 places to visit within {kilometers} kilometers based on popular opinions.\""
   ]
  },
  {
   "cell_type": "code",
   "execution_count": null,
   "id": "8f0bceb0",
   "metadata": {},
   "outputs": [],
   "source": [
    "response = openai.Completion.create(\n",
    "  engine=\"gpt-3.5-turbo\",\n",
    "  prompt=prompt,\n",
    "  max_tokens=50,\n",
    "  n=3,\n",
    "  stop=None,\n",
    "  temperature=0.5,\n",
    "  top_p=1.0\n",
    ")\n"
   ]
  },
  {
   "cell_type": "code",
   "execution_count": null,
   "id": "c3cac54b",
   "metadata": {},
   "outputs": [],
   "source": [
    "import os\n",
    "import openai\n",
    "openai.api_key = os.getenv(\"my_openai_key\")\n",
    "openai.Model.list()\n"
   ]
  },
  {
   "cell_type": "code",
   "execution_count": null,
   "id": "ffe8cf6d",
   "metadata": {},
   "outputs": [],
   "source": [
    "recommended_places = [choice['text'].strip() for choice in response['choices']]"
   ]
  },
  {
   "cell_type": "code",
   "execution_count": null,
   "id": "636746a0",
   "metadata": {},
   "outputs": [],
   "source": [
    "print(f\"\\nTop 3 places to visit from Madrid within {kilometers} kilometers:\")"
   ]
  },
  {
   "cell_type": "code",
   "execution_count": null,
   "id": "2ccb52cd",
   "metadata": {},
   "outputs": [],
   "source": [
    "for i, place in enumerate(recommended_places, start=1):\n",
    "    print(f\"{i}. {place}\")"
   ]
  },
  {
   "cell_type": "code",
   "execution_count": null,
   "id": "f8882281",
   "metadata": {},
   "outputs": [],
   "source": []
  }
 ],
 "metadata": {
  "kernelspec": {
   "display_name": "project_new_env",
   "language": "python",
   "name": "project_new_env"
  },
  "language_info": {
   "codemirror_mode": {
    "name": "ipython",
    "version": 3
   },
   "file_extension": ".py",
   "mimetype": "text/x-python",
   "name": "python",
   "nbconvert_exporter": "python",
   "pygments_lexer": "ipython3",
   "version": "3.11.3"
  }
 },
 "nbformat": 4,
 "nbformat_minor": 5
}
