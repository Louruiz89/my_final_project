{
 "cells": [
  {
   "cell_type": "code",
   "execution_count": 1,
   "id": "39c0b395",
   "metadata": {},
   "outputs": [],
   "source": [
    "#Los 3 primeros imports son para llamar a la API de ChatGPT\n",
    "from dotenv import load_dotenv\n",
    "import os #provides ways to access the Operating System and allows us to read the environment variables\n",
    "import openai\n",
    "\n",
    "import requests #Este import es para llamar a la API del tiempo\n",
    "\n",
    "import pandas as pd #Este import es para cargar el CSV de latitud y longitud de todos los pueblos de españa\n",
    "\n",
    "from haversine import haversine, Unit #Estos import son para calcular las distancias de lat y long\n",
    "from math import radians, sin, cos, sqrt, atan2\n",
    "\n",
    "\n",
    "import streamlit as st #Es para poder crear la APP"
   ]
  },
  {
   "cell_type": "code",
   "execution_count": 2,
   "id": "7cc73317",
   "metadata": {},
   "outputs": [
    {
     "name": "stderr",
     "output_type": "stream",
     "text": [
      "2023-07-15 09:56:46.274 \n",
      "  \u001b[33m\u001b[1mWarning:\u001b[0m to view this Streamlit app on a browser, run it with the following\n",
      "  command:\n",
      "\n",
      "    streamlit run C:\\Users\\lourdes.ruiz\\miniconda3\\envs\\project_new_env\\Lib\\site-packages\\ipykernel_launcher.py [ARGUMENTS]\n"
     ]
    },
    {
     "data": {
      "text/plain": [
       "DeltaGenerator()"
      ]
     },
     "execution_count": 2,
     "metadata": {},
     "output_type": "execute_result"
    }
   ],
   "source": [
    "#Referencias streamlit https://seraph13.medium.com/tutorial-introductorio-de-streamlit-be78f225b434\n",
    "\n",
    "st.title(\"CampToGo\")"
   ]
  },
  {
   "cell_type": "code",
   "execution_count": 3,
   "id": "f086c517",
   "metadata": {},
   "outputs": [
    {
     "data": {
      "text/plain": [
       "DeltaGenerator()"
      ]
     },
     "execution_count": 3,
     "metadata": {},
     "output_type": "execute_result"
    }
   ],
   "source": [
    "st.header(\"Welcome user\")\n",
    "st.subheader(\"This is the APP that helps you to plan your last minute road trip in Campervan starting from Madrid\")"
   ]
  },
  {
   "cell_type": "code",
   "execution_count": null,
   "id": "51ad01d9",
   "metadata": {},
   "outputs": [],
   "source": []
  },
  {
   "cell_type": "code",
   "execution_count": 4,
   "id": "f61bfe81",
   "metadata": {},
   "outputs": [],
   "source": [
    "#Llamo a la API de chatGPT aunque ahora he decidido no empezar usandola\n",
    "\n",
    "load_dotenv()\n",
    "my_secret_key = os.getenv(\"my_openai_key\")"
   ]
  },
  {
   "cell_type": "code",
   "execution_count": 5,
   "id": "548561c4",
   "metadata": {},
   "outputs": [],
   "source": [
    "#Llamo a la contraseña que tengo guardada en .env\n",
    "\n",
    "openai.api_key = my_secret_key"
   ]
  },
  {
   "cell_type": "code",
   "execution_count": 6,
   "id": "cc81ae7a",
   "metadata": {},
   "outputs": [
    {
     "name": "stdout",
     "output_type": "stream",
     "text": [
      "Welcome to the APP that helps you to plan your last minute road trip in Campervan starting from Madrid\n"
     ]
    }
   ],
   "source": [
    "#Le doy la bienvenida al usuario\n",
    "\n",
    "print(\"Welcome to the APP that helps you to plan your last minute road trip in Campervan starting from Madrid\")"
   ]
  },
  {
   "cell_type": "code",
   "execution_count": 7,
   "id": "46454b06",
   "metadata": {},
   "outputs": [
    {
     "name": "stdout",
     "output_type": "stream",
     "text": [
      "Please enter how many days are you going to travel: 1\n"
     ]
    }
   ],
   "source": [
    "#Le pregunto al usuario cuantos días va a viajar ya que es la base de mi elección de itinerario\n",
    "\n",
    "days = int(input(\"Please enter how many days are you going to travel: \"))"
   ]
  },
  {
   "cell_type": "code",
   "execution_count": 8,
   "id": "1fa38667",
   "metadata": {},
   "outputs": [],
   "source": [
    "#Creo un diccionario en base al radio de KM para usarlo como referencia para saber el tiempo\n",
    "\n",
    "dictionary = {\n",
    "    'N': ['Riaza', 'Aranda de Duero', 'Burgos', 'Santander', 'Santander'],\n",
    "    'NO': ['Segovia', 'Zamora', 'Ponferrada', 'Lugo', 'A Coruña'],\n",
    "    'O': ['Ávila', 'Salamanca', 'Ciudad Rodrigo', 'Ciudad Rodrigo', 'Ciudad Rodrigo'],\n",
    "    'SO': ['Talavera de la Reina', 'Plasencia', 'Mérida', 'Sevilla', 'Huelva'],\n",
    "    'S': ['Toledo', 'Ciudad Real', 'Jaén', 'Granada', 'Málaga'],\n",
    "    'SE': ['Saelices', 'Albacete', 'Almansa', 'Murcia', 'Almería'],\n",
    "    'E': ['Sacedón', 'Cuenca', 'Valencia', 'Jávea', 'Alicante'],\n",
    "    'NE': ['Sigüenza', 'Calatayud', 'Zaragoza', 'Huesca', 'Andorra']}"
   ]
  },
  {
   "cell_type": "code",
   "execution_count": 9,
   "id": "2479912a",
   "metadata": {},
   "outputs": [],
   "source": [
    "#Creo una función para que me calcule la posición en el diccionario en base a los días que va a viajar el usuario\n",
    "# Pero si introduce más de 5 días le devuelvo la última posición del diccionario independientemente de los días\n",
    "\n",
    "def days_limited(days: int):\n",
    "    \n",
    "    d = 0\n",
    "    \n",
    "    if days >=8:\n",
    "        d = 4\n",
    "    elif days == 7 or days >= 2: \n",
    "        d = int(days - 2)\n",
    "    else:\n",
    "        d = 0\n",
    "        \n",
    "    return d"
   ]
  },
  {
   "cell_type": "code",
   "execution_count": 10,
   "id": "a7439405",
   "metadata": {},
   "outputs": [
    {
     "data": {
      "text/plain": [
       "0"
      ]
     },
     "execution_count": 10,
     "metadata": {},
     "output_type": "execute_result"
    }
   ],
   "source": [
    "days_lim = days_limited(days)\n",
    "days_lim"
   ]
  },
  {
   "cell_type": "code",
   "execution_count": 11,
   "id": "8013729e",
   "metadata": {},
   "outputs": [],
   "source": [
    "#Creo una función para que me genere automaticamente las ubicaciones en base a los días de viaje\n",
    "\n",
    "def get_places(dictionary, d):\n",
    "    values = {}\n",
    "    for key, value_list in dictionary.items():\n",
    "        if d < len(value_list):\n",
    "            values[key] = value_list[d]\n",
    "    return values"
   ]
  },
  {
   "cell_type": "code",
   "execution_count": 12,
   "id": "98cf98f2",
   "metadata": {},
   "outputs": [
    {
     "data": {
      "text/plain": [
       "{'N': 'Riaza',\n",
       " 'NO': 'Segovia',\n",
       " 'O': 'Ávila',\n",
       " 'SO': 'Talavera de la Reina',\n",
       " 'S': 'Toledo',\n",
       " 'SE': 'Saelices',\n",
       " 'E': 'Sacedón',\n",
       " 'NE': 'Sigüenza'}"
      ]
     },
     "execution_count": 12,
     "metadata": {},
     "output_type": "execute_result"
    }
   ],
   "source": [
    "#Reviso que me devuelva el resultado correcto https://www.weatherapi.com/docs/\n",
    "\n",
    "result = get_places(dictionary, days_lim)\n",
    "result"
   ]
  },
  {
   "cell_type": "code",
   "execution_count": 13,
   "id": "515ca7e9",
   "metadata": {},
   "outputs": [],
   "source": [
    "#Creo todas las variables para llamar a la API del tiempo menos \"q\" que representa el lugar \n",
    "#de dónde quiero ver la previsión del tiempo\n",
    "load_dotenv()\n",
    "url = 'http://api.weatherapi.com/v1'\n",
    "forecast = '/forecast.json?'\n",
    "pre = 'key='\n",
    "key =os.getenv(\"my_weather_token\")\n",
    "wdays = '&days=1'\n",
    "final = '&aqi=no&alerts=no'\n",
    "\n",
    "#print(url + forecast + pre + key + wdays + final)"
   ]
  },
  {
   "cell_type": "code",
   "execution_count": 14,
   "id": "925cf89e",
   "metadata": {},
   "outputs": [],
   "source": [
    "#Ahora creo una variable \"q\" para cada punto cardinal\n",
    "\n",
    "q_var = '&q='\n",
    "norte = q_var + result['N']\n",
    "noroeste = q_var + result['NO']\n",
    "oeste = q_var + result['O']\n",
    "suroeste = q_var + result['SO']\n",
    "sur = q_var + result['S']\n",
    "sureste = q_var + result['SE']\n",
    "este = q_var + result['E']\n",
    "noreste = q_var + result['NE']"
   ]
  },
  {
   "cell_type": "code",
   "execution_count": 15,
   "id": "a01da0ed",
   "metadata": {},
   "outputs": [],
   "source": [
    "#Creo una llamada a la API para cada lugar\n",
    "\n",
    "check_rain_north = requests.get(url + forecast + pre + key + norte + wdays + final)\n",
    "check_rain_nortwest = requests.get(url + forecast + pre + key + noroeste + wdays + final)\n",
    "check_rain_west = requests.get(url + forecast + pre + key + oeste + wdays + final)\n",
    "check_rain_southwest = requests.get(url + forecast + pre + key + suroeste + wdays + final)\n",
    "check_rain_south = requests.get(url + forecast + pre + key + sur + wdays + final)\n",
    "check_rain_southeast = requests.get(url + forecast + pre + key + sureste + wdays + final)\n",
    "check_rain_east = requests.get(url + forecast + pre + key + este + wdays + final)\n",
    "check_rain_northeast = requests.get(url + forecast + pre + key + noreste + wdays + final)\n",
    "\n",
    "#check_rain_southeast.status_code"
   ]
  },
  {
   "cell_type": "code",
   "execution_count": 16,
   "id": "c447744f",
   "metadata": {},
   "outputs": [],
   "source": [
    "check_rain_north_result = check_rain_north.json()\n",
    "check_rain_nortwest_result = check_rain_nortwest.json()\n",
    "check_rain_west_result = check_rain_west.json()\n",
    "check_rain_southwest_result = check_rain_southwest.json() \n",
    "check_rain_south_result = check_rain_south.json() \n",
    "check_rain_southeast_result = check_rain_southeast.json()\n",
    "check_rain_east_result = check_rain_east.json()\n",
    "check_rain_northeast_result = check_rain_northeast.json()"
   ]
  },
  {
   "cell_type": "code",
   "execution_count": 17,
   "id": "4c11109c",
   "metadata": {
    "scrolled": true
   },
   "outputs": [
    {
     "name": "stdout",
     "output_type": "stream",
     "text": [
      "Awesome! I suggest to travel to the following directions as the others could rain tomorrow\n",
      "North\n",
      "Northwest\n",
      "West\n",
      "Southwest\n",
      "Southeast\n",
      "East\n",
      "Northeast\n"
     ]
    }
   ],
   "source": [
    "print(\"Awesome! I suggest to travel to the following directions as the others could rain tomorrow\")\n",
    "\n",
    "#North\n",
    "if check_rain_north_result['forecast'][\"forecastday\"][0]['day']['daily_chance_of_rain'] == 0:\n",
    "    print('North')\n",
    "    \n",
    "#Northwest\n",
    "if check_rain_nortwest_result['forecast'][\"forecastday\"][0]['day']['daily_chance_of_rain'] == 0:\n",
    "    print('Northwest')\n",
    "\n",
    "#West\n",
    "if check_rain_west_result['forecast'][\"forecastday\"][0]['day']['daily_chance_of_rain'] == 0:\n",
    "    print('West')\n",
    "    \n",
    "#Southwest\n",
    "if check_rain_southwest_result['forecast'][\"forecastday\"][0]['day']['daily_chance_of_rain'] == 0:\n",
    "    print('Southwest')\n",
    "    \n",
    "#South\n",
    "if check_rain_south_result['forecast'][\"forecastday\"][0]['day']['daily_chance_of_rain'] == 0:\n",
    "    print('South')\n",
    "\n",
    "#Southeast\n",
    "if check_rain_southeast_result['forecast'][\"forecastday\"][0]['day']['daily_chance_of_rain'] == 0:\n",
    "    print('Southeast')\n",
    "\n",
    "#East\n",
    "if check_rain_east_result['forecast'][\"forecastday\"][0]['day']['daily_chance_of_rain'] == 0:\n",
    "    print('East')\n",
    "    \n",
    "#Northeast\n",
    "if check_rain_northeast_result['forecast'][\"forecastday\"][0]['day']['daily_chance_of_rain'] == 0:\n",
    "    print('Northeast')"
   ]
  },
  {
   "cell_type": "code",
   "execution_count": 18,
   "id": "4d77a7f3",
   "metadata": {},
   "outputs": [
    {
     "name": "stdout",
     "output_type": "stream",
     "text": [
      "Choose one: southeast\n"
     ]
    }
   ],
   "source": [
    "#Ahora le pido al usuario que elija el punto cardinal\n",
    "\n",
    "direction = input('Choose one: ')"
   ]
  },
  {
   "cell_type": "code",
   "execution_count": 19,
   "id": "a8abdd3e",
   "metadata": {},
   "outputs": [
    {
     "data": {
      "text/html": [
       "<div>\n",
       "<style scoped>\n",
       "    .dataframe tbody tr th:only-of-type {\n",
       "        vertical-align: middle;\n",
       "    }\n",
       "\n",
       "    .dataframe tbody tr th {\n",
       "        vertical-align: top;\n",
       "    }\n",
       "\n",
       "    .dataframe thead th {\n",
       "        text-align: right;\n",
       "    }\n",
       "</style>\n",
       "<table border=\"1\" class=\"dataframe\">\n",
       "  <thead>\n",
       "    <tr style=\"text-align: right;\">\n",
       "      <th></th>\n",
       "      <th>Pueblo</th>\n",
       "      <th>Provincia</th>\n",
       "      <th>Longitud</th>\n",
       "      <th>Latitud</th>\n",
       "      <th>Datos de Interés</th>\n",
       "    </tr>\n",
       "  </thead>\n",
       "  <tbody>\n",
       "    <tr>\n",
       "      <th>0</th>\n",
       "      <td>Alcalá del Júcar</td>\n",
       "      <td>Albacete</td>\n",
       "      <td>-1.429327</td>\n",
       "      <td>39.193202</td>\n",
       "      <td>D.O. Pueblo Bonito</td>\n",
       "    </tr>\n",
       "    <tr>\n",
       "      <th>1</th>\n",
       "      <td>Almagro</td>\n",
       "      <td>Ciudad Real</td>\n",
       "      <td>-3.711559</td>\n",
       "      <td>38.889841</td>\n",
       "      <td>D.O. Pueblo Bonito</td>\n",
       "    </tr>\n",
       "    <tr>\n",
       "      <th>2</th>\n",
       "      <td>Almonaster la Real</td>\n",
       "      <td>Huelva</td>\n",
       "      <td>-6.787200</td>\n",
       "      <td>37.872631</td>\n",
       "      <td>D.O. Pueblo Bonito</td>\n",
       "    </tr>\n",
       "    <tr>\n",
       "      <th>3</th>\n",
       "      <td>Anento</td>\n",
       "      <td>Zaragoza</td>\n",
       "      <td>-1.333285</td>\n",
       "      <td>41.069730</td>\n",
       "      <td>D.O. Pueblo Bonito</td>\n",
       "    </tr>\n",
       "    <tr>\n",
       "      <th>4</th>\n",
       "      <td>Ansó</td>\n",
       "      <td>Huesca</td>\n",
       "      <td>-0.828883</td>\n",
       "      <td>42.754663</td>\n",
       "      <td>D.O. Pueblo Bonito</td>\n",
       "    </tr>\n",
       "    <tr>\n",
       "      <th>5</th>\n",
       "      <td>Atienza</td>\n",
       "      <td>Guadalajara</td>\n",
       "      <td>-2.871087</td>\n",
       "      <td>41.200040</td>\n",
       "      <td>D.O. Pueblo Bonito</td>\n",
       "    </tr>\n",
       "    <tr>\n",
       "      <th>6</th>\n",
       "      <td>Ayllón</td>\n",
       "      <td>Segovia</td>\n",
       "      <td>-3.376887</td>\n",
       "      <td>41.420808</td>\n",
       "      <td>D.O. Pueblo Bonito</td>\n",
       "    </tr>\n",
       "    <tr>\n",
       "      <th>7</th>\n",
       "      <td>Baños de la Encina</td>\n",
       "      <td>Jaén</td>\n",
       "      <td>-3.774262</td>\n",
       "      <td>38.171199</td>\n",
       "      <td>D.O. Pueblo Bonito</td>\n",
       "    </tr>\n",
       "  </tbody>\n",
       "</table>\n",
       "</div>"
      ],
      "text/plain": [
       "               Pueblo    Provincia  Longitud    Latitud    Datos de Interés\n",
       "0    Alcalá del Júcar     Albacete -1.429327  39.193202  D.O. Pueblo Bonito\n",
       "1             Almagro  Ciudad Real -3.711559  38.889841  D.O. Pueblo Bonito\n",
       "2  Almonaster la Real       Huelva -6.787200  37.872631  D.O. Pueblo Bonito\n",
       "3              Anento     Zaragoza -1.333285  41.069730  D.O. Pueblo Bonito\n",
       "4                Ansó       Huesca -0.828883  42.754663  D.O. Pueblo Bonito\n",
       "5             Atienza  Guadalajara -2.871087  41.200040  D.O. Pueblo Bonito\n",
       "6              Ayllón      Segovia -3.376887  41.420808  D.O. Pueblo Bonito\n",
       "7  Baños de la Encina         Jaén -3.774262  38.171199  D.O. Pueblo Bonito"
      ]
     },
     "execution_count": 19,
     "metadata": {},
     "output_type": "execute_result"
    }
   ],
   "source": [
    "#Cargo el dataset de municipios para tener las coordenadas\n",
    "\n",
    "municipios = pd.read_csv('./data/pueblos_bonitos_punto.csv')\n",
    "municipios[:8]"
   ]
  },
  {
   "cell_type": "code",
   "execution_count": 20,
   "id": "adf59eaf",
   "metadata": {},
   "outputs": [
    {
     "data": {
      "text/html": [
       "<div>\n",
       "<style scoped>\n",
       "    .dataframe tbody tr th:only-of-type {\n",
       "        vertical-align: middle;\n",
       "    }\n",
       "\n",
       "    .dataframe tbody tr th {\n",
       "        vertical-align: top;\n",
       "    }\n",
       "\n",
       "    .dataframe thead th {\n",
       "        text-align: right;\n",
       "    }\n",
       "</style>\n",
       "<table border=\"1\" class=\"dataframe\">\n",
       "  <thead>\n",
       "    <tr style=\"text-align: right;\">\n",
       "      <th></th>\n",
       "      <th>Pueblo</th>\n",
       "      <th>Provincia</th>\n",
       "      <th>Longitud</th>\n",
       "      <th>Latitud</th>\n",
       "    </tr>\n",
       "  </thead>\n",
       "  <tbody>\n",
       "    <tr>\n",
       "      <th>0</th>\n",
       "      <td>Albacete</td>\n",
       "      <td>Albacete</td>\n",
       "      <td>-1.855747</td>\n",
       "      <td>38.995881</td>\n",
       "    </tr>\n",
       "    <tr>\n",
       "      <th>1</th>\n",
       "      <td>Almansa</td>\n",
       "      <td>Albacete</td>\n",
       "      <td>-1.094147</td>\n",
       "      <td>38.869688</td>\n",
       "    </tr>\n",
       "    <tr>\n",
       "      <th>2</th>\n",
       "      <td>Andorra</td>\n",
       "      <td>Teruel</td>\n",
       "      <td>-0.443719</td>\n",
       "      <td>40.975094</td>\n",
       "    </tr>\n",
       "    <tr>\n",
       "      <th>3</th>\n",
       "      <td>Aranda de Duero</td>\n",
       "      <td>Burgos</td>\n",
       "      <td>-3.689243</td>\n",
       "      <td>41.671551</td>\n",
       "    </tr>\n",
       "    <tr>\n",
       "      <th>4</th>\n",
       "      <td>Burgos</td>\n",
       "      <td>Burgos</td>\n",
       "      <td>-3.704198</td>\n",
       "      <td>42.341130</td>\n",
       "    </tr>\n",
       "    <tr>\n",
       "      <th>5</th>\n",
       "      <td>Calatayud</td>\n",
       "      <td>Zaragoza</td>\n",
       "      <td>-1.644726</td>\n",
       "      <td>41.354319</td>\n",
       "    </tr>\n",
       "    <tr>\n",
       "      <th>6</th>\n",
       "      <td>Ciudad Real</td>\n",
       "      <td>Ciudad Real</td>\n",
       "      <td>-3.931320</td>\n",
       "      <td>38.986518</td>\n",
       "    </tr>\n",
       "    <tr>\n",
       "      <th>7</th>\n",
       "      <td>Ciudad Rodrigo</td>\n",
       "      <td>Salamanca</td>\n",
       "      <td>-6.534158</td>\n",
       "      <td>40.597309</td>\n",
       "    </tr>\n",
       "    <tr>\n",
       "      <th>8</th>\n",
       "      <td>Cuenca</td>\n",
       "      <td>Cuenca</td>\n",
       "      <td>-2.131523</td>\n",
       "      <td>40.076538</td>\n",
       "    </tr>\n",
       "    <tr>\n",
       "      <th>9</th>\n",
       "      <td>Granada</td>\n",
       "      <td>Granada</td>\n",
       "      <td>-3.600019</td>\n",
       "      <td>37.176419</td>\n",
       "    </tr>\n",
       "    <tr>\n",
       "      <th>10</th>\n",
       "      <td>Huelva</td>\n",
       "      <td>Huelva</td>\n",
       "      <td>-6.950406</td>\n",
       "      <td>37.260041</td>\n",
       "    </tr>\n",
       "    <tr>\n",
       "      <th>11</th>\n",
       "      <td>Huesca</td>\n",
       "      <td>Huesca</td>\n",
       "      <td>-0.408423</td>\n",
       "      <td>42.140627</td>\n",
       "    </tr>\n",
       "    <tr>\n",
       "      <th>12</th>\n",
       "      <td>Lugo</td>\n",
       "      <td>Lugo</td>\n",
       "      <td>-7.555755</td>\n",
       "      <td>43.009890</td>\n",
       "    </tr>\n",
       "    <tr>\n",
       "      <th>13</th>\n",
       "      <td>Murcia</td>\n",
       "      <td>Murcia</td>\n",
       "      <td>-1.128541</td>\n",
       "      <td>37.984364</td>\n",
       "    </tr>\n",
       "    <tr>\n",
       "      <th>14</th>\n",
       "      <td>Plasencia</td>\n",
       "      <td>Cáceres</td>\n",
       "      <td>-6.092682</td>\n",
       "      <td>40.029405</td>\n",
       "    </tr>\n",
       "    <tr>\n",
       "      <th>15</th>\n",
       "      <td>Ponferrada</td>\n",
       "      <td>León</td>\n",
       "      <td>-6.597295</td>\n",
       "      <td>42.547683</td>\n",
       "    </tr>\n",
       "    <tr>\n",
       "      <th>16</th>\n",
       "      <td>Riaza</td>\n",
       "      <td>Segovia</td>\n",
       "      <td>-3.477252</td>\n",
       "      <td>41.279740</td>\n",
       "    </tr>\n",
       "    <tr>\n",
       "      <th>17</th>\n",
       "      <td>Salamanca</td>\n",
       "      <td>Salamanca</td>\n",
       "      <td>-5.665381</td>\n",
       "      <td>40.967368</td>\n",
       "    </tr>\n",
       "    <tr>\n",
       "      <th>18</th>\n",
       "      <td>Santander</td>\n",
       "      <td>Cantabria</td>\n",
       "      <td>-3.809722</td>\n",
       "      <td>43.462167</td>\n",
       "    </tr>\n",
       "    <tr>\n",
       "      <th>19</th>\n",
       "      <td>Segovia</td>\n",
       "      <td>Segovia</td>\n",
       "      <td>-4.125241</td>\n",
       "      <td>40.949870</td>\n",
       "    </tr>\n",
       "    <tr>\n",
       "      <th>20</th>\n",
       "      <td>Sevilla</td>\n",
       "      <td>Sevilla</td>\n",
       "      <td>-5.992514</td>\n",
       "      <td>37.386205</td>\n",
       "    </tr>\n",
       "    <tr>\n",
       "      <th>21</th>\n",
       "      <td>Talavera de la Reina</td>\n",
       "      <td>Toledo</td>\n",
       "      <td>-4.833702</td>\n",
       "      <td>39.960167</td>\n",
       "    </tr>\n",
       "    <tr>\n",
       "      <th>22</th>\n",
       "      <td>Toledo</td>\n",
       "      <td>Toledo</td>\n",
       "      <td>-4.024975</td>\n",
       "      <td>39.856522</td>\n",
       "    </tr>\n",
       "    <tr>\n",
       "      <th>23</th>\n",
       "      <td>Zamora</td>\n",
       "      <td>Zamora</td>\n",
       "      <td>-5.754948</td>\n",
       "      <td>41.499140</td>\n",
       "    </tr>\n",
       "    <tr>\n",
       "      <th>24</th>\n",
       "      <td>Zaragoza</td>\n",
       "      <td>Zaragoza</td>\n",
       "      <td>-0.879287</td>\n",
       "      <td>41.656457</td>\n",
       "    </tr>\n",
       "    <tr>\n",
       "      <th>25</th>\n",
       "      <td>Alicante</td>\n",
       "      <td>Alicante</td>\n",
       "      <td>-0.483183</td>\n",
       "      <td>38.345487</td>\n",
       "    </tr>\n",
       "    <tr>\n",
       "      <th>26</th>\n",
       "      <td>Almería</td>\n",
       "      <td>Almería</td>\n",
       "      <td>-2.464132</td>\n",
       "      <td>36.838924</td>\n",
       "    </tr>\n",
       "    <tr>\n",
       "      <th>27</th>\n",
       "      <td>Ávila</td>\n",
       "      <td>Ávila</td>\n",
       "      <td>-4.697713</td>\n",
       "      <td>40.655870</td>\n",
       "    </tr>\n",
       "    <tr>\n",
       "      <th>28</th>\n",
       "      <td>Jávea</td>\n",
       "      <td>Alicante</td>\n",
       "      <td>0.163524</td>\n",
       "      <td>38.789062</td>\n",
       "    </tr>\n",
       "    <tr>\n",
       "      <th>29</th>\n",
       "      <td>A Coruña</td>\n",
       "      <td>A Coruña</td>\n",
       "      <td>-8.395502</td>\n",
       "      <td>43.371266</td>\n",
       "    </tr>\n",
       "    <tr>\n",
       "      <th>30</th>\n",
       "      <td>Mérida</td>\n",
       "      <td>Badajoz</td>\n",
       "      <td>-6.344172</td>\n",
       "      <td>38.917388</td>\n",
       "    </tr>\n",
       "    <tr>\n",
       "      <th>31</th>\n",
       "      <td>Sacedón</td>\n",
       "      <td>Guadalajara</td>\n",
       "      <td>-2.732880</td>\n",
       "      <td>40.480825</td>\n",
       "    </tr>\n",
       "    <tr>\n",
       "      <th>32</th>\n",
       "      <td>Sigüenza</td>\n",
       "      <td>Guadalajara</td>\n",
       "      <td>-2.640646</td>\n",
       "      <td>41.067499</td>\n",
       "    </tr>\n",
       "    <tr>\n",
       "      <th>33</th>\n",
       "      <td>Valencia</td>\n",
       "      <td>Valencia</td>\n",
       "      <td>-0.375657</td>\n",
       "      <td>39.475344</td>\n",
       "    </tr>\n",
       "    <tr>\n",
       "      <th>34</th>\n",
       "      <td>Málaga</td>\n",
       "      <td>Málaga</td>\n",
       "      <td>-4.419975</td>\n",
       "      <td>36.720343</td>\n",
       "    </tr>\n",
       "    <tr>\n",
       "      <th>35</th>\n",
       "      <td>Jaén</td>\n",
       "      <td>Jaén</td>\n",
       "      <td>-3.790359</td>\n",
       "      <td>37.765191</td>\n",
       "    </tr>\n",
       "    <tr>\n",
       "      <th>36</th>\n",
       "      <td>Saelices</td>\n",
       "      <td>Cuenca</td>\n",
       "      <td>-2.805578</td>\n",
       "      <td>39.920977</td>\n",
       "    </tr>\n",
       "  </tbody>\n",
       "</table>\n",
       "</div>"
      ],
      "text/plain": [
       "                  Pueblo    Provincia  Longitud    Latitud\n",
       "0               Albacete     Albacete -1.855747  38.995881\n",
       "1                Almansa     Albacete -1.094147  38.869688\n",
       "2                Andorra       Teruel -0.443719  40.975094\n",
       "3        Aranda de Duero       Burgos -3.689243  41.671551\n",
       "4                 Burgos       Burgos -3.704198  42.341130\n",
       "5              Calatayud     Zaragoza -1.644726  41.354319\n",
       "6            Ciudad Real  Ciudad Real -3.931320  38.986518\n",
       "7         Ciudad Rodrigo    Salamanca -6.534158  40.597309\n",
       "8                 Cuenca       Cuenca -2.131523  40.076538\n",
       "9                Granada      Granada -3.600019  37.176419\n",
       "10                Huelva       Huelva -6.950406  37.260041\n",
       "11                Huesca       Huesca -0.408423  42.140627\n",
       "12                  Lugo         Lugo -7.555755  43.009890\n",
       "13                Murcia       Murcia -1.128541  37.984364\n",
       "14             Plasencia      Cáceres -6.092682  40.029405\n",
       "15            Ponferrada         León -6.597295  42.547683\n",
       "16                 Riaza      Segovia -3.477252  41.279740\n",
       "17             Salamanca    Salamanca -5.665381  40.967368\n",
       "18             Santander    Cantabria -3.809722  43.462167\n",
       "19               Segovia      Segovia -4.125241  40.949870\n",
       "20               Sevilla      Sevilla -5.992514  37.386205\n",
       "21  Talavera de la Reina       Toledo -4.833702  39.960167\n",
       "22                Toledo       Toledo -4.024975  39.856522\n",
       "23                Zamora       Zamora -5.754948  41.499140\n",
       "24              Zaragoza     Zaragoza -0.879287  41.656457\n",
       "25              Alicante     Alicante -0.483183  38.345487\n",
       "26               Almería      Almería -2.464132  36.838924\n",
       "27                 Ávila        Ávila -4.697713  40.655870\n",
       "28                 Jávea     Alicante  0.163524  38.789062\n",
       "29              A Coruña     A Coruña -8.395502  43.371266\n",
       "30                Mérida      Badajoz -6.344172  38.917388\n",
       "31               Sacedón  Guadalajara -2.732880  40.480825\n",
       "32              Sigüenza  Guadalajara -2.640646  41.067499\n",
       "33              Valencia     Valencia -0.375657  39.475344\n",
       "34                Málaga       Málaga -4.419975  36.720343\n",
       "35                  Jaén         Jaén -3.790359  37.765191\n",
       "36              Saelices       Cuenca -2.805578  39.920977"
      ]
     },
     "execution_count": 20,
     "metadata": {},
     "output_type": "execute_result"
    }
   ],
   "source": [
    "#Cargo el dataset de las coordenadas de mis puntos cardinales para calcular las distancias\n",
    "\n",
    "p_cardinales = pd.read_csv('./data/puntos_cardinales_punto.csv')\n",
    "p_cardinales"
   ]
  },
  {
   "cell_type": "code",
   "execution_count": 21,
   "id": "f0bca3c9",
   "metadata": {},
   "outputs": [],
   "source": [
    "#Ahora hago match entre la dirección que ha elegido el usuario y las opciones que tengo\n",
    "\n",
    "def user_direction(direction, result):\n",
    "    if direction == 'north' or direction == 'N' or direction == 'North':\n",
    "        return result['N']\n",
    "    elif direction == 'northwest' or direction == 'NW' or direction == 'Northwest' or direction == 'NorthWest':\n",
    "        return result['NO']\n",
    "    elif direction == 'west' or direction == 'West' or direction == 'W':\n",
    "        return result['O']\n",
    "    elif direction == 'southwest' or direction == 'Southwest' or direction == 'SouthWest' or direction == 'SW':\n",
    "        return result['SO']\n",
    "    elif direction == 'south' or direction == direction == 'S' or direction == 'South':\n",
    "        return result['S']\n",
    "    elif direction == 'southeast' or direction == 'Southeast' or direction == 'SouthEast' or direction == 'SE':\n",
    "        return result['SE']\n",
    "    elif direction == 'east' or direction == 'East' or direction == 'E':\n",
    "        return result['E']\n",
    "    elif direction == 'northeast' or direction == 'Northeast' or direction == 'NorthEast' or direction == 'NE':\n",
    "        return result['NE']\n",
    "    else:\n",
    "        return 'I am not able to find the direction'"
   ]
  },
  {
   "cell_type": "code",
   "execution_count": 22,
   "id": "43c54c1c",
   "metadata": {},
   "outputs": [],
   "source": [
    "#Guardo el resultado en un diccionario\n",
    "\n",
    "result = {'N': result['N'], 'NO': result['NO'], 'O': result['O'], 'NE': result['NE'],\n",
    "          'S': result['S'], 'SO': result['SO'], 'SE': result['SE'], 'E': result['E']}"
   ]
  },
  {
   "cell_type": "code",
   "execution_count": 23,
   "id": "d90647cc",
   "metadata": {},
   "outputs": [
    {
     "data": {
      "text/plain": [
       "'Saelices'"
      ]
     },
     "execution_count": 23,
     "metadata": {},
     "output_type": "execute_result"
    }
   ],
   "source": [
    "output = user_direction(direction, result)\n",
    "output"
   ]
  },
  {
   "cell_type": "code",
   "execution_count": 24,
   "id": "aacf42f5",
   "metadata": {
    "scrolled": false
   },
   "outputs": [
    {
     "data": {
      "text/html": [
       "<div>\n",
       "<style scoped>\n",
       "    .dataframe tbody tr th:only-of-type {\n",
       "        vertical-align: middle;\n",
       "    }\n",
       "\n",
       "    .dataframe tbody tr th {\n",
       "        vertical-align: top;\n",
       "    }\n",
       "\n",
       "    .dataframe thead th {\n",
       "        text-align: right;\n",
       "    }\n",
       "</style>\n",
       "<table border=\"1\" class=\"dataframe\">\n",
       "  <thead>\n",
       "    <tr style=\"text-align: right;\">\n",
       "      <th></th>\n",
       "      <th>Pueblo</th>\n",
       "      <th>Provincia</th>\n",
       "      <th>Longitud</th>\n",
       "      <th>Latitud</th>\n",
       "    </tr>\n",
       "  </thead>\n",
       "  <tbody>\n",
       "    <tr>\n",
       "      <th>36</th>\n",
       "      <td>Saelices</td>\n",
       "      <td>Cuenca</td>\n",
       "      <td>-2.805578</td>\n",
       "      <td>39.920977</td>\n",
       "    </tr>\n",
       "  </tbody>\n",
       "</table>\n",
       "</div>"
      ],
      "text/plain": [
       "      Pueblo Provincia  Longitud    Latitud\n",
       "36  Saelices    Cuenca -2.805578  39.920977"
      ]
     },
     "execution_count": 24,
     "metadata": {},
     "output_type": "execute_result"
    }
   ],
   "source": [
    "#Guardo en las variables de latitud y longitud desde dónde quiero crear el radio de los pueblos que recomendar\n",
    "\n",
    "row = p_cardinales[p_cardinales['Pueblo'] == output]\n",
    "row"
   ]
  },
  {
   "cell_type": "code",
   "execution_count": 25,
   "id": "2d41c31d",
   "metadata": {},
   "outputs": [
    {
     "data": {
      "text/plain": [
       "36"
      ]
     },
     "execution_count": 25,
     "metadata": {},
     "output_type": "execute_result"
    }
   ],
   "source": [
    "idx = row.index[row['Pueblo'] == output][0]\n",
    "idx"
   ]
  },
  {
   "cell_type": "code",
   "execution_count": 26,
   "id": "39d74d40",
   "metadata": {},
   "outputs": [],
   "source": [
    "lat_origen = row['Latitud'][idx]\n",
    "long_origen = row['Longitud'][idx]"
   ]
  },
  {
   "cell_type": "code",
   "execution_count": 27,
   "id": "5a1f391d",
   "metadata": {},
   "outputs": [],
   "source": [
    "def haversine(lat1, lon1, lat2, lon2):\n",
    "    R = 6371  # Radius of the Earth in kilometers\n",
    "\n",
    "    # Convert degrees to radians\n",
    "    lat1, lon1, lat2, lon2 = map(radians, [lat1, lon1, lat2, lon2])\n",
    "\n",
    "    # Calculate differences\n",
    "    dlat = lat2 - lat1\n",
    "    dlon = lon2 - lon1\n",
    "\n",
    "    # Haversine formula\n",
    "    a = sin(dlat / 2) ** 2 + cos(lat1) * cos(lat2) * sin(dlon / 2) ** 2\n",
    "    c = 2 * atan2(sqrt(a), sqrt(1 - a))\n",
    "\n",
    "    # Calculate distance\n",
    "    distance = R * c\n",
    "    return distance"
   ]
  },
  {
   "cell_type": "code",
   "execution_count": 28,
   "id": "d45213b7",
   "metadata": {},
   "outputs": [
    {
     "data": {
      "text/html": [
       "<div>\n",
       "<style scoped>\n",
       "    .dataframe tbody tr th:only-of-type {\n",
       "        vertical-align: middle;\n",
       "    }\n",
       "\n",
       "    .dataframe tbody tr th {\n",
       "        vertical-align: top;\n",
       "    }\n",
       "\n",
       "    .dataframe thead th {\n",
       "        text-align: right;\n",
       "    }\n",
       "</style>\n",
       "<table border=\"1\" class=\"dataframe\">\n",
       "  <thead>\n",
       "    <tr style=\"text-align: right;\">\n",
       "      <th></th>\n",
       "      <th>Pueblo</th>\n",
       "      <th>Provincia</th>\n",
       "      <th>Longitud</th>\n",
       "      <th>Latitud</th>\n",
       "      <th>Datos de Interés</th>\n",
       "      <th>Distance</th>\n",
       "    </tr>\n",
       "  </thead>\n",
       "  <tbody>\n",
       "    <tr>\n",
       "      <th>0</th>\n",
       "      <td>Alcalá del Júcar</td>\n",
       "      <td>Albacete</td>\n",
       "      <td>-1.429327</td>\n",
       "      <td>39.193202</td>\n",
       "      <td>D.O. Pueblo Bonito</td>\n",
       "      <td>143.069120</td>\n",
       "    </tr>\n",
       "    <tr>\n",
       "      <th>1</th>\n",
       "      <td>Almagro</td>\n",
       "      <td>Ciudad Real</td>\n",
       "      <td>-3.711559</td>\n",
       "      <td>38.889841</td>\n",
       "      <td>D.O. Pueblo Bonito</td>\n",
       "      <td>138.580992</td>\n",
       "    </tr>\n",
       "    <tr>\n",
       "      <th>2</th>\n",
       "      <td>Almonaster la Real</td>\n",
       "      <td>Huelva</td>\n",
       "      <td>-6.787200</td>\n",
       "      <td>37.872631</td>\n",
       "      <td>D.O. Pueblo Bonito</td>\n",
       "      <td>412.978009</td>\n",
       "    </tr>\n",
       "    <tr>\n",
       "      <th>3</th>\n",
       "      <td>Anento</td>\n",
       "      <td>Zaragoza</td>\n",
       "      <td>-1.333285</td>\n",
       "      <td>41.069730</td>\n",
       "      <td>D.O. Pueblo Bonito</td>\n",
       "      <td>178.363510</td>\n",
       "    </tr>\n",
       "    <tr>\n",
       "      <th>4</th>\n",
       "      <td>Ansó</td>\n",
       "      <td>Huesca</td>\n",
       "      <td>-0.828883</td>\n",
       "      <td>42.754663</td>\n",
       "      <td>D.O. Pueblo Bonito</td>\n",
       "      <td>355.665863</td>\n",
       "    </tr>\n",
       "    <tr>\n",
       "      <th>...</th>\n",
       "      <td>...</td>\n",
       "      <td>...</td>\n",
       "      <td>...</td>\n",
       "      <td>...</td>\n",
       "      <td>...</td>\n",
       "      <td>...</td>\n",
       "    </tr>\n",
       "    <tr>\n",
       "      <th>69</th>\n",
       "      <td>Viniegra de Arriba</td>\n",
       "      <td>La Rioja</td>\n",
       "      <td>-2.834787</td>\n",
       "      <td>42.095493</td>\n",
       "      <td>D.O. Pueblo Bonito</td>\n",
       "      <td>241.807562</td>\n",
       "    </tr>\n",
       "    <tr>\n",
       "      <th>70</th>\n",
       "      <td>Vinuesa</td>\n",
       "      <td>Soria</td>\n",
       "      <td>-2.762725</td>\n",
       "      <td>41.911792</td>\n",
       "      <td>D.O. Pueblo Bonito</td>\n",
       "      <td>221.397729</td>\n",
       "    </tr>\n",
       "    <tr>\n",
       "      <th>71</th>\n",
       "      <td>Yanguas</td>\n",
       "      <td>Soria</td>\n",
       "      <td>-2.339304</td>\n",
       "      <td>42.101758</td>\n",
       "      <td>D.O. Pueblo Bonito</td>\n",
       "      <td>245.626239</td>\n",
       "    </tr>\n",
       "    <tr>\n",
       "      <th>72</th>\n",
       "      <td>Zahara</td>\n",
       "      <td>Cádiz</td>\n",
       "      <td>-5.390317</td>\n",
       "      <td>36.840277</td>\n",
       "      <td>D.O. Pueblo Bonito</td>\n",
       "      <td>409.961487</td>\n",
       "    </tr>\n",
       "    <tr>\n",
       "      <th>73</th>\n",
       "      <td>Zuheros</td>\n",
       "      <td>Córdoba</td>\n",
       "      <td>-4.316499</td>\n",
       "      <td>37.543838</td>\n",
       "      <td>D.O. Pueblo Bonito</td>\n",
       "      <td>295.019911</td>\n",
       "    </tr>\n",
       "  </tbody>\n",
       "</table>\n",
       "<p>74 rows × 6 columns</p>\n",
       "</div>"
      ],
      "text/plain": [
       "                Pueblo    Provincia  Longitud    Latitud    Datos de Interés   \n",
       "0     Alcalá del Júcar     Albacete -1.429327  39.193202  D.O. Pueblo Bonito  \\\n",
       "1              Almagro  Ciudad Real -3.711559  38.889841  D.O. Pueblo Bonito   \n",
       "2   Almonaster la Real       Huelva -6.787200  37.872631  D.O. Pueblo Bonito   \n",
       "3               Anento     Zaragoza -1.333285  41.069730  D.O. Pueblo Bonito   \n",
       "4                 Ansó       Huesca -0.828883  42.754663  D.O. Pueblo Bonito   \n",
       "..                 ...          ...       ...        ...                 ...   \n",
       "69  Viniegra de Arriba     La Rioja -2.834787  42.095493  D.O. Pueblo Bonito   \n",
       "70             Vinuesa        Soria -2.762725  41.911792  D.O. Pueblo Bonito   \n",
       "71             Yanguas        Soria -2.339304  42.101758  D.O. Pueblo Bonito   \n",
       "72              Zahara        Cádiz -5.390317  36.840277  D.O. Pueblo Bonito   \n",
       "73             Zuheros      Córdoba -4.316499  37.543838  D.O. Pueblo Bonito   \n",
       "\n",
       "      Distance  \n",
       "0   143.069120  \n",
       "1   138.580992  \n",
       "2   412.978009  \n",
       "3   178.363510  \n",
       "4   355.665863  \n",
       "..         ...  \n",
       "69  241.807562  \n",
       "70  221.397729  \n",
       "71  245.626239  \n",
       "72  409.961487  \n",
       "73  295.019911  \n",
       "\n",
       "[74 rows x 6 columns]"
      ]
     },
     "execution_count": 28,
     "metadata": {},
     "output_type": "execute_result"
    }
   ],
   "source": [
    "municipios[\"Distance\"] = municipios.apply(lambda row: haversine(row[\"Latitud\"], row[\"Longitud\"], lat_origen, long_origen), axis=1)\n",
    "municipios"
   ]
  },
  {
   "cell_type": "code",
   "execution_count": 29,
   "id": "76f98392",
   "metadata": {
    "scrolled": false
   },
   "outputs": [
    {
     "data": {
      "text/html": [
       "<div>\n",
       "<style scoped>\n",
       "    .dataframe tbody tr th:only-of-type {\n",
       "        vertical-align: middle;\n",
       "    }\n",
       "\n",
       "    .dataframe tbody tr th {\n",
       "        vertical-align: top;\n",
       "    }\n",
       "\n",
       "    .dataframe thead th {\n",
       "        text-align: right;\n",
       "    }\n",
       "</style>\n",
       "<table border=\"1\" class=\"dataframe\">\n",
       "  <thead>\n",
       "    <tr style=\"text-align: right;\">\n",
       "      <th></th>\n",
       "      <th>Pueblo</th>\n",
       "      <th>Provincia</th>\n",
       "      <th>Longitud</th>\n",
       "      <th>Latitud</th>\n",
       "      <th>Datos de Interés</th>\n",
       "      <th>Distance</th>\n",
       "    </tr>\n",
       "  </thead>\n",
       "  <tbody>\n",
       "    <tr>\n",
       "      <th>0</th>\n",
       "      <td>Pastrana</td>\n",
       "      <td>Guadalajara</td>\n",
       "      <td>-2.924589</td>\n",
       "      <td>40.416315</td>\n",
       "      <td>D.O. Pueblo Bonito</td>\n",
       "      <td>55.999636</td>\n",
       "    </tr>\n",
       "    <tr>\n",
       "      <th>1</th>\n",
       "      <td>Chinchón</td>\n",
       "      <td>Madrid</td>\n",
       "      <td>-3.422306</td>\n",
       "      <td>40.141269</td>\n",
       "      <td>D.O. Pueblo Bonito</td>\n",
       "      <td>57.941415</td>\n",
       "    </tr>\n",
       "    <tr>\n",
       "      <th>2</th>\n",
       "      <td>Nuevo Baztán</td>\n",
       "      <td>Madrid</td>\n",
       "      <td>-3.243131</td>\n",
       "      <td>40.366149</td>\n",
       "      <td>D.O. Pueblo Bonito</td>\n",
       "      <td>61.915931</td>\n",
       "    </tr>\n",
       "  </tbody>\n",
       "</table>\n",
       "</div>"
      ],
      "text/plain": [
       "         Pueblo    Provincia  Longitud    Latitud    Datos de Interés   \n",
       "0      Pastrana  Guadalajara -2.924589  40.416315  D.O. Pueblo Bonito  \\\n",
       "1      Chinchón       Madrid -3.422306  40.141269  D.O. Pueblo Bonito   \n",
       "2  Nuevo Baztán       Madrid -3.243131  40.366149  D.O. Pueblo Bonito   \n",
       "\n",
       "    Distance  \n",
       "0  55.999636  \n",
       "1  57.941415  \n",
       "2  61.915931  "
      ]
     },
     "execution_count": 29,
     "metadata": {},
     "output_type": "execute_result"
    }
   ],
   "source": [
    "top_3 = municipios.sort_values(by='Distance').reset_index(drop=True)[:3]\n",
    "top_3"
   ]
  },
  {
   "cell_type": "code",
   "execution_count": 30,
   "id": "ebf22f78",
   "metadata": {},
   "outputs": [],
   "source": [
    "one = top_3.iloc[0, top_3.columns.get_loc('Pueblo')]\n",
    "two = top_3.iloc[1, top_3.columns.get_loc('Pueblo')]\n",
    "three = top_3.iloc[2, top_3.columns.get_loc('Pueblo')]"
   ]
  },
  {
   "cell_type": "code",
   "execution_count": 31,
   "id": "381ebcd7",
   "metadata": {
    "scrolled": false
   },
   "outputs": [
    {
     "name": "stdout",
     "output_type": "stream",
     "text": [
      "Cool! I recommend you to visit these 3 villages selected as Pueblos Bonitos de España: \n",
      "Pastrana\n",
      "Chinchón\n",
      "Nuevo Baztán\n"
     ]
    }
   ],
   "source": [
    "print('Cool! I recommend you to visit these 3 villages selected as Pueblos Bonitos de España: ') \n",
    "print(one)\n",
    "print(two)\n",
    "print(three)"
   ]
  },
  {
   "cell_type": "code",
   "execution_count": 32,
   "id": "7b3d93ad",
   "metadata": {},
   "outputs": [
    {
     "name": "stdout",
     "output_type": "stream",
     "text": [
      "Now, let me give you some tips. Find below what to visit, where you can park to sleep and popular routes for trekking\n"
     ]
    }
   ],
   "source": [
    "print('Now, let me give you some tips. Find below what to visit, where you can park to sleep and popular routes for trekking')"
   ]
  },
  {
   "cell_type": "code",
   "execution_count": 33,
   "id": "c16c3320",
   "metadata": {},
   "outputs": [],
   "source": [
    "def generate_monuments_prompt(place):\n",
    "    chat_prompt = [\n",
    "        {\"role\": \"system\", \"content\": \"You are a helpful assistant.\"},\n",
    "        {\"role\": \"user\", \"content\": f\"List the top places to visit in {place} but\\\n",
    "        don't explain them and do not give me a introduction , just the answer with\\\n",
    "        the list. After that, let me know where I should park to sleep in a campervan.\\\n",
    "        Last, list me the 3 most common tracking routes and show me the amount of kilometers\\\n",
    "        and the difficulty level rated by easy, medium or high.\"}\n",
    "    ]\n",
    "\n",
    "    response = openai.ChatCompletion.create(\n",
    "        model=\"gpt-3.5-turbo\",\n",
    "        messages=chat_prompt\n",
    "    )\n",
    "\n",
    "    return response.choices[0].message.content.strip()"
   ]
  },
  {
   "cell_type": "code",
   "execution_count": 34,
   "id": "37ca6bf1",
   "metadata": {},
   "outputs": [],
   "source": [
    "place = one "
   ]
  },
  {
   "cell_type": "code",
   "execution_count": 35,
   "id": "cdf377c7",
   "metadata": {},
   "outputs": [
    {
     "name": "stdout",
     "output_type": "stream",
     "text": [
      "Pastrana\n",
      "Top places to visit in Pastrana:\n",
      "1. Pastrana Castle\n",
      "2. Plaza de la Hora\n",
      "3. Iglesia Colegiata de Pastrana\n",
      "4. Museo del Territorio Histórico de Pastrana\n",
      "5. Hospital del Cardenal\n",
      "6. Convento del Carmen\n",
      "7. Museo Parroquial de la Colegiata\n",
      "8. Antiguas Caballerizas de Pastrana\n",
      "\n",
      "Parking for sleeping in a campervan:\n",
      "There are a few options for campervan parking in Pastrana. Some popular spots include:\n",
      "1. Parking lot near Plaza de la Hora\n",
      "2. Parking area by the Pastrana Castle\n",
      "3. A designated camping site outside the town\n",
      "\n",
      "Top 3 tracking routes:\n",
      "1. Route: Bosque de Pastrana\n",
      "   Distance: 6.5 km\n",
      "   Difficulty level: Easy\n",
      "\n",
      "2. Route: Ruta del Tajo de las Carpinas\n",
      "   Distance: 12 km\n",
      "   Difficulty level: Medium\n",
      "\n",
      "3. Route: Sendero de las Fuentes de la Alcarria\n",
      "   Distance: 18 km\n",
      "   Difficulty level: High\n"
     ]
    }
   ],
   "source": [
    "response_text = generate_monuments_prompt(place)\n",
    "print(one)\n",
    "print(response_text)"
   ]
  },
  {
   "cell_type": "code",
   "execution_count": 36,
   "id": "f8882281",
   "metadata": {},
   "outputs": [],
   "source": [
    "place = two"
   ]
  },
  {
   "cell_type": "code",
   "execution_count": 37,
   "id": "f2e903d5",
   "metadata": {},
   "outputs": [
    {
     "name": "stdout",
     "output_type": "stream",
     "text": [
      "Chinchón\n",
      "Top places to visit in Chinchón:\n",
      "1. Plaza Mayor\n",
      "2. Castilo de Chinchón\n",
      "3. Church of Nuestra Señora de la Asunción\n",
      "4. Casa de la Cadena\n",
      "5. Convent of the Clarisas\n",
      "6. Lope de Vega Theatre\n",
      "7. Iglesia San Esteban\n",
      "8. Casa del Regidor\n",
      "9. Museo Etnológico\n",
      "\n",
      "For parking and sleeping in a campervan, you can park at:\n",
      "- Parking Lot \"Plaza Mayor\" in Chinchón\n",
      "\n",
      "The three most common tracking routes in Chinchón are:\n",
      "1. Chinchón Circular Route\n",
      "   - Distance: 8 km\n",
      "   - Difficulty: Easy\n",
      "\n",
      "2. Chinchón to Colmenar de Oreja Route\n",
      "   - Distance: 12 km\n",
      "   - Difficulty: Medium\n",
      "\n",
      "3. Chinchón to Carabaña Route\n",
      "   - Distance: 20 km\n",
      "   - Difficulty: High\n"
     ]
    }
   ],
   "source": [
    "response_text = generate_monuments_prompt(place)\n",
    "print(two)\n",
    "print(response_text)"
   ]
  },
  {
   "cell_type": "code",
   "execution_count": 38,
   "id": "4b83ec80",
   "metadata": {},
   "outputs": [],
   "source": [
    "place = three"
   ]
  },
  {
   "cell_type": "code",
   "execution_count": 39,
   "id": "fa68c43b",
   "metadata": {},
   "outputs": [
    {
     "name": "stdout",
     "output_type": "stream",
     "text": [
      "Nuevo Baztán\n",
      "Top places to visit in Nuevo Baztán:\n",
      "1. Palacio de Goyeneche\n",
      "2. Iglesia de San Francisco Javier\n",
      "3. Real Fábrica de Paños\n",
      "4. Plaza de la Iglesia\n",
      "5. Casa de las Infantas\n",
      "\n",
      "Parking for campervans in Nuevo Baztán: There is a designated area for campervan parking near the Plaza de la Iglesia.\n",
      "\n",
      "Top 3 tracking routes in Nuevo Baztán:\n",
      "1. Route 1: Sendero del Arroyo Berro\n",
      "   - Distance: 5 kilometers\n",
      "   - Difficulty: Easy\n",
      "\n",
      "2. Route 2: Sendero de la Dehesa de las Cuevas\n",
      "   - Distance: 8 kilometers\n",
      "   - Difficulty: Medium\n",
      "\n",
      "3. Route 3: Sendero del Monte de los Alamillos\n",
      "   - Distance: 12 kilometers\n",
      "   - Difficulty: High\n"
     ]
    }
   ],
   "source": [
    "response_text = generate_monuments_prompt(place)\n",
    "print(three)\n",
    "print(response_text)"
   ]
  },
  {
   "cell_type": "code",
   "execution_count": 40,
   "id": "8ceb05b5",
   "metadata": {},
   "outputs": [
    {
     "name": "stdout",
     "output_type": "stream",
     "text": [
      "Enjoy your trip!\n"
     ]
    }
   ],
   "source": [
    "print('Enjoy your trip!') "
   ]
  },
  {
   "cell_type": "code",
   "execution_count": null,
   "id": "6af164a4",
   "metadata": {},
   "outputs": [],
   "source": []
  }
 ],
 "metadata": {
  "kernelspec": {
   "display_name": "project_new_env",
   "language": "python",
   "name": "project_new_env"
  },
  "language_info": {
   "codemirror_mode": {
    "name": "ipython",
    "version": 3
   },
   "file_extension": ".py",
   "mimetype": "text/x-python",
   "name": "python",
   "nbconvert_exporter": "python",
   "pygments_lexer": "ipython3",
   "version": "3.11.3"
  }
 },
 "nbformat": 4,
 "nbformat_minor": 5
}
